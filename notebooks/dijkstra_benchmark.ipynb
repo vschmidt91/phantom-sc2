{
 "cells": [
  {
   "cell_type": "code",
   "execution_count": 1,
   "id": "initial_id",
   "metadata": {
    "ExecuteTime": {
     "end_time": "2025-03-27T18:25:21.581462Z",
     "start_time": "2025-03-27T18:25:21.578462Z"
    },
    "collapsed": true
   },
   "outputs": [],
   "source": [
    "import sys\n",
    "\n",
    "sys.path.append(\"../ares-sc2\")\n",
    "sys.path.append(\"../src\")"
   ]
  },
  {
   "cell_type": "code",
   "execution_count": 2,
   "id": "eb9f08e24ffecaa2",
   "metadata": {
    "ExecuteTime": {
     "end_time": "2025-03-27T18:25:23.592338Z",
     "start_time": "2025-03-27T18:25:21.581462Z"
    }
   },
   "outputs": [
    {
     "ename": "ModuleNotFoundError",
     "evalue": "No module named 'phantom.cython.dijkstra_pathing'",
     "output_type": "error",
     "traceback": [
      "\u001B[31m---------------------------------------------------------------------------\u001B[39m",
      "\u001B[31mModuleNotFoundError\u001B[39m                       Traceback (most recent call last)",
      "\u001B[36mCell\u001B[39m\u001B[36m \u001B[39m\u001B[32mIn[2]\u001B[39m\u001B[32m, line 8\u001B[39m\n\u001B[32m      6\u001B[39m \u001B[38;5;28;01mfrom\u001B[39;00m\u001B[38;5;250m \u001B[39m\u001B[34;01msc2\u001B[39;00m\u001B[34;01m.\u001B[39;00m\u001B[34;01mposition\u001B[39;00m\u001B[38;5;250m \u001B[39m\u001B[38;5;28;01mimport\u001B[39;00m Point2\n\u001B[32m      7\u001B[39m \u001B[38;5;28;01mfrom\u001B[39;00m\u001B[38;5;250m \u001B[39m\u001B[34;01mskimage\u001B[39;00m\u001B[34;01m.\u001B[39;00m\u001B[34;01mdraw\u001B[39;00m\u001B[38;5;250m \u001B[39m\u001B[38;5;28;01mimport\u001B[39;00m disk\n\u001B[32m----> \u001B[39m\u001B[32m8\u001B[39m \u001B[38;5;28;01mfrom\u001B[39;00m\u001B[38;5;250m \u001B[39m\u001B[34;01mphantom\u001B[39;00m\u001B[34;01m.\u001B[39;00m\u001B[34;01mcython\u001B[39;00m\u001B[34;01m.\u001B[39;00m\u001B[34;01mdijkstra_pathing\u001B[39;00m\u001B[38;5;250m \u001B[39m\u001B[38;5;28;01mimport\u001B[39;00m DijkstraPathing\n",
      "\u001B[31mModuleNotFoundError\u001B[39m: No module named 'phantom.cython.dijkstra_pathing'"
     ]
    }
   ],
   "source": [
    "import lzma\n",
    "import pickle\n",
    "\n",
    "import numpy as np\n",
    "import plotly.express as px\n",
    "from sc2.position import Point2\n",
    "from skimage.draw import disk\n",
    "\n",
    "from phantom.cython.dijkstra_pathing import DijkstraPathing"
   ]
  },
  {
   "cell_type": "code",
   "execution_count": null,
   "id": "55680b0739f3d4d5",
   "metadata": {
    "ExecuteTime": {
     "end_time": "2025-03-27T18:25:23.592846Z",
     "start_time": "2025-03-27T18:25:23.592846Z"
    }
   },
   "outputs": [],
   "source": [
    "map_file = \"../resources/maps/Acropolis AIE.xz\"\n",
    "with lzma.open(map_file, \"rb\") as f:\n",
    "    map_data = pickle.load(f)"
   ]
  },
  {
   "cell_type": "code",
   "execution_count": null,
   "id": "fd7a887019668ec8",
   "metadata": {
    "ExecuteTime": {
     "end_time": "2025-03-27T18:25:23.593849Z",
     "start_time": "2025-03-27T18:25:23.593849Z"
    }
   },
   "outputs": [],
   "source": [
    "rng = np.random.default_rng(0)\n",
    "pathing_grid = map_data.pathing_grid.data_numpy.T\n",
    "pathing_cost = np.where(pathing_grid == 1.0, 1.0, np.inf)\n",
    "cost = pathing_cost + np.exp(rng.randn(*map_data.map_size))\n",
    "# cost = pathing_cost\n",
    "for _ in range(16):\n",
    "    p = rng.uniform((0, 0), map_data.map_size)\n",
    "    r = rng.uniform(4, 24)\n",
    "    c = rng.uniform(4, 24)\n",
    "    d = disk(p, r)\n",
    "    cost[d] += c\n",
    "targets = [\n",
    "    Point2(\n",
    "        (\n",
    "            rng.randint(0, map_data.map_size[0]),\n",
    "            rng.randint(0, map_data.map_size[1]),\n",
    "        )\n",
    "    )\n",
    "    for _ in range(8)\n",
    "]\n",
    "rewards = [0, 0, 0, 0, 0, 0, 0, 100]\n",
    "rewards"
   ]
  },
  {
   "cell_type": "code",
   "execution_count": null,
   "id": "ad5c5aabab17ad39",
   "metadata": {
    "ExecuteTime": {
     "end_time": "2025-03-27T18:25:23.594848Z",
     "start_time": "2025-03-27T18:25:23.594848Z"
    }
   },
   "outputs": [],
   "source": [
    "paths = DijkstraPathing(cost, targets, rewards)"
   ]
  },
  {
   "cell_type": "code",
   "execution_count": null,
   "id": "3755e609ac6c1fe1",
   "metadata": {
    "ExecuteTime": {
     "end_time": "2025-03-27T18:25:23.596352Z",
     "start_time": "2025-03-27T18:25:23.596352Z"
    }
   },
   "outputs": [],
   "source": [
    "img = paths.dist.copy()\n",
    "for q in paths.get_path(map_data.map_center.rounded):\n",
    "    img[q] = np.nan\n",
    "px.imshow(img)"
   ]
  },
  {
   "cell_type": "code",
   "execution_count": null,
   "id": "7f903a3738e51a66",
   "metadata": {
    "ExecuteTime": {
     "end_time": "2025-03-27T18:25:23.597358Z",
     "start_time": "2025-03-27T18:25:23.597358Z"
    }
   },
   "outputs": [],
   "source": [
    "%%timeit\n",
    "paths = DijkstraPathing(cost, targets, rewards)\n",
    "paths.prev_y"
   ]
  }
 ],
 "metadata": {
  "kernelspec": {
   "display_name": "Python 3",
   "language": "python",
   "name": "python3"
  },
  "language_info": {
   "codemirror_mode": {
    "name": "ipython",
    "version": 2
   },
   "file_extension": ".py",
   "mimetype": "text/x-python",
   "name": "python",
   "nbconvert_exporter": "python",
   "pygments_lexer": "ipython2",
   "version": "2.7.6"
  }
 },
 "nbformat": 4,
 "nbformat_minor": 5
}
