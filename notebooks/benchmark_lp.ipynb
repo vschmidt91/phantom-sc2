{
 "cells": [
  {
   "metadata": {
    "ExecuteTime": {
     "end_time": "2025-03-25T01:58:28.367719Z",
     "start_time": "2025-03-25T01:58:27.701855Z"
    }
   },
   "cell_type": "code",
   "source": [
    "import importlib\n",
    "import math\n",
    "import os\n",
    "import subprocess\n",
    "import sys\n",
    "\n",
    "\n",
    "import cvxpy as cp\n",
    "from cvxpygen import cpg\n",
    "import scipy as sp\n",
    "import numpy as np\n",
    "\n"
   ],
   "id": "468aaab68aeef5c6",
   "outputs": [],
   "execution_count": 1
  },
  {
   "metadata": {
    "ExecuteTime": {
     "end_time": "2025-03-25T01:58:28.380299Z",
     "start_time": "2025-03-25T01:58:28.367719Z"
    }
   },
   "cell_type": "code",
   "source": "cp.installed_solvers()",
   "id": "85f1acf4d28bbb87",
   "outputs": [
    {
     "data": {
      "text/plain": [
       "['CLARABEL', 'ECOS', 'ECOS_BB', 'OSQP', 'QOCO', 'SCIPY', 'SCS']"
      ]
     },
     "execution_count": 2,
     "metadata": {},
     "output_type": "execute_result"
    }
   ],
   "execution_count": 2
  },
  {
   "metadata": {
    "ExecuteTime": {
     "end_time": "2025-03-25T01:58:28.383999Z",
     "start_time": "2025-03-25T01:58:28.380299Z"
    }
   },
   "cell_type": "code",
   "source": "SOLVER = cp.ECOS",
   "id": "d3e23e07026656da",
   "outputs": [],
   "execution_count": 3
  },
  {
   "metadata": {
    "ExecuteTime": {
     "end_time": "2025-03-25T01:58:28.389455Z",
     "start_time": "2025-03-25T01:58:28.383999Z"
    }
   },
   "cell_type": "code",
   "source": [
    "N = 10\n",
    "M = 10\n",
    "max_assigned = math.ceil(N / M)\n",
    "np.random.seed(0)\n",
    "W = sp.stats.lognorm.rvs(s=2, size=(N, M))\n",
    "W"
   ],
   "id": "1ddee748d1f818e",
   "outputs": [
    {
     "data": {
      "text/plain": [
       "array([[3.40593534e+01, 2.22624079e+00, 7.08143073e+00, 8.83924358e+01,\n",
       "        4.18928840e+01, 1.41627379e-01, 6.68707685e+00, 7.38810058e-01,\n",
       "        8.13476937e-01, 2.27321926e+00],\n",
       "       [1.33387354e+00, 1.83301458e+01, 4.58172448e+00, 1.27551502e+00,\n",
       "        2.42959959e+00, 1.94906283e+00, 1.98490897e+01, 6.63440220e-01,\n",
       "        1.87036837e+00, 1.81193188e-01],\n",
       "       [6.06039905e-03, 3.69594839e+00, 5.63429708e+00, 2.26654139e-01,\n",
       "        9.36448324e+01, 5.45448844e-02, 1.09583544e+00, 6.87723989e-01,\n",
       "        2.14464349e+01, 1.88916030e+01],\n",
       "       [1.36328176e+00, 2.13043256e+00, 1.69386618e-01, 1.90327721e-02,\n",
       "        4.98663231e-01, 1.36710852e+00, 1.17116182e+01, 1.10757684e+01,\n",
       "        4.60863380e-01, 5.46289895e-01],\n",
       "       [1.22811339e-01, 5.84235700e-02, 3.29573697e-02, 4.94791214e+01,\n",
       "        3.60845870e-01, 4.16383485e-01, 8.16273648e-02, 4.73499519e+00,\n",
       "        3.96447918e-02, 6.53455685e-01],\n",
       "       [1.66804448e-01, 2.16799981e+00, 3.60014750e-01, 9.43009167e-02,\n",
       "        9.45194591e-01, 2.35528971e+00, 1.14228934e+00, 1.83114929e+00,\n",
       "        2.81212635e-01, 4.84091020e-01],\n",
       "       [2.60560319e-01, 4.87187450e-01, 1.96657319e-01, 3.16643067e-02,\n",
       "        1.42597000e+00, 4.47731359e-01, 3.83731726e-02, 2.52329228e+00,\n",
       "        1.62903589e-01, 1.10947928e+00],\n",
       "       [4.29813464e+00, 1.29429458e+00, 9.76496880e+00, 8.46143301e-02,\n",
       "        2.23598821e+00, 2.54203492e-01, 1.75240792e-01, 3.14208240e-01,\n",
       "        5.36276676e-01, 1.11888280e+00],\n",
       "       [9.72665937e-02, 6.05965564e+00, 2.53786932e+00, 4.63058316e-02,\n",
       "        1.96191158e+01, 4.43351738e+01, 1.05651320e+01, 6.97781215e-01,\n",
       "        1.17477877e-01, 8.23920166e+00],\n",
       "       [4.46483026e-01, 1.15292829e+01, 1.51671977e+00, 7.05176594e+00,\n",
       "        2.03955734e+00, 4.10886295e+00, 1.02122209e+00, 3.55784810e+01,\n",
       "        1.28894517e+00, 2.23441339e+00]])"
      ]
     },
     "execution_count": 4,
     "metadata": {},
     "output_type": "execute_result"
    }
   ],
   "execution_count": 4
  },
  {
   "metadata": {
    "ExecuteTime": {
     "end_time": "2025-03-25T01:58:28.394747Z",
     "start_time": "2025-03-25T01:58:28.389455Z"
    }
   },
   "cell_type": "code",
   "source": [
    "x = cp.Variable((N, M), 'x')\n",
    "w = cp.Parameter((N, M), name='w')\n",
    "constraints = [\n",
    "    cp.sum(x, 0) <= max_assigned,  # enforce even distribution\n",
    "    cp.sum(x, 1) == 1,\n",
    "    0 <= x,\n",
    "]\n",
    "problem = cp.Problem(cp.Minimize(cp.vdot(w, x)), constraints)"
   ],
   "id": "6a86e54a8b89b133",
   "outputs": [],
   "execution_count": 5
  },
  {
   "metadata": {
    "ExecuteTime": {
     "end_time": "2025-03-25T01:58:28.459946Z",
     "start_time": "2025-03-25T01:58:28.394747Z"
    }
   },
   "cell_type": "code",
   "source": [
    "code_dir = f\"assign_{N}_{M}\"\n",
    "cpg.generate_code(\n",
    "    problem,\n",
    "    code_dir=code_dir,\n",
    "    solver=SOLVER,\n",
    "    wrapper=False,\n",
    ")"
   ],
   "id": "5064af4c1f18335",
   "outputs": [
    {
     "name": "stdout",
     "output_type": "stream",
     "text": [
      "Generating code with CVXPYgen ...\n",
      "CVXPYgen finished generating code.\n"
     ]
    }
   ],
   "execution_count": 6
  },
  {
   "metadata": {
    "ExecuteTime": {
     "end_time": "2025-03-25T01:58:28.463104Z",
     "start_time": "2025-03-25T01:58:28.459946Z"
    }
   },
   "cell_type": "code",
   "source": "",
   "id": "8f2728e69e7b4bf4",
   "outputs": [],
   "execution_count": 6
  },
  {
   "metadata": {
    "ExecuteTime": {
     "end_time": "2025-03-25T01:58:28.466976Z",
     "start_time": "2025-03-25T01:58:28.463104Z"
    }
   },
   "cell_type": "code",
   "source": [
    "code_dir_abs = os.path.join(os.path.abspath(\".\"), code_dir)\n",
    "code_dir_abs"
   ],
   "id": "3efcce75a12ae447",
   "outputs": [
    {
     "data": {
      "text/plain": [
       "'C:\\\\Users\\\\volke\\\\PycharmProjects\\\\phantom-sc2\\\\notebooks\\\\assign_10_10'"
      ]
     },
     "execution_count": 7,
     "metadata": {},
     "output_type": "execute_result"
    }
   ],
   "execution_count": 7
  },
  {
   "metadata": {
    "ExecuteTime": {
     "end_time": "2025-03-25T01:58:28.470936Z",
     "start_time": "2025-03-25T01:58:28.466976Z"
    }
   },
   "cell_type": "code",
   "source": "sys.executable",
   "id": "7b213e73425a9c8d",
   "outputs": [
    {
     "data": {
      "text/plain": [
       "'C:\\\\Users\\\\volke\\\\PycharmProjects\\\\phantom-sc2\\\\.venv11\\\\Scripts\\\\python.exe'"
      ]
     },
     "execution_count": 8,
     "metadata": {},
     "output_type": "execute_result"
    }
   ],
   "execution_count": 8
  },
  {
   "metadata": {
    "ExecuteTime": {
     "end_time": "2025-03-25T01:58:35.517550Z",
     "start_time": "2025-03-25T01:58:28.470936Z"
    }
   },
   "cell_type": "code",
   "source": [
    "try:\n",
    "    output = subprocess.check_output(\n",
    "        f\"{sys.executable} setup.py --quiet build_ext --inplace\",\n",
    "        cwd=code_dir,\n",
    "        shell=True,\n",
    "    )\n",
    "except subprocess.CalledProcessError as exc:\n",
    "    print(\"Status : FAIL\", exc.returncode, exc.output)\n",
    "else:\n",
    "    print(\"Output: \\n{}\\n\".format(output))"
   ],
   "id": "e3c67f90b545f3cf",
   "outputs": [
    {
     "name": "stdout",
     "output_type": "stream",
     "text": [
      "Status : FAIL 1 b'-- Selecting Windows SDK version 10.0.22621.0 to target Windows 10.0.26100.\\n-- The C compiler identification is MSVC 19.42.34436.0\\n-- The CXX compiler identification is MSVC 19.42.34436.0\\n-- Detecting C compiler ABI info\\n-- Detecting C compiler ABI info - done\\n-- Check for working C compiler: C:/Program Files (x86)/Microsoft Visual Studio/2022/BuildTools/VC/Tools/MSVC/14.42.34433/bin/Hostx64/x64/cl.exe - skipped\\n-- Detecting C compile features\\n-- Detecting C compile features - done\\n-- Detecting CXX compiler ABI info\\n-- Detecting CXX compiler ABI info - done\\n-- Check for working CXX compiler: C:/Program Files (x86)/Microsoft Visual Studio/2022/BuildTools/VC/Tools/MSVC/14.42.34433/bin/Hostx64/x64/cl.exe - skipped\\n-- Detecting CXX compile features\\n-- Detecting CXX compile features - done\\n-- Configuring done (2.6s)\\n-- Generating done (0.0s)\\n-- Build files have been written to: C:/Users/volke/PycharmProjects/phantom-sc2/notebooks/assign_10_10/c/build\\nMSBuild version 17.12.12+1cce77968 for .NET Framework\\r\\n\\r\\n  1>Checking Build System\\r\\n  Building Custom Rule C:/Users/volke/PycharmProjects/phantom-sc2/notebooks/assign_10_10/c/CMakeLists.txt\\r\\n  cpg_workspace.c\\r\\n  cpg_solve.c\\r\\n  ecos_bb.c\\r\\n  ecos_bb_preproc.c\\r\\n  amd_1.c\\r\\n  amd_2.c\\r\\n  amd_aat.c\\r\\n  amd_control.c\\r\\n  amd_defaults.c\\r\\n  amd_dump.c\\r\\n  amd_global.c\\r\\n  amd_info.c\\r\\n  amd_order.c\\r\\n  amd_post_tree.c\\r\\n  amd_postorder.c\\r\\n  amd_preprocess.c\\r\\n  amd_valid.c\\r\\n  ldl.c\\r\\n  cone.c\\r\\n  ctrlc.c\\r\\n  Generating Code...\\r\\n  Compiling...\\r\\n  ecos.c\\r\\n  equil.c\\r\\n  expcone.c\\r\\n  kkt.c\\r\\n  preproc.c\\r\\n  spla.c\\r\\n  splamm.c\\r\\n  timer.c\\r\\n  wright_omega.c\\r\\n  Generating Code...\\r\\n  cpg.vcxproj -> C:\\\\Users\\\\volke\\\\PycharmProjects\\\\phantom-sc2\\\\notebooks\\\\assign_10_10\\\\c\\\\build\\\\out\\\\Release\\\\cpg.lib\\r\\n'\n"
     ]
    }
   ],
   "execution_count": 9
  },
  {
   "cell_type": "code",
   "id": "initial_id",
   "metadata": {
    "collapsed": true,
    "ExecuteTime": {
     "end_time": "2025-03-25T01:59:21.167925Z",
     "start_time": "2025-03-25T01:59:21.158949Z"
    }
   },
   "source": [
    "module = importlib.import_module(f\"{code_dir}.cpg_solver\")\n",
    "problem.register_solve(SOLVER, module.cpg_solve)\n",
    "\n",
    "# test and compile\n",
    "def solve_cvxpy():\n",
    "    w.value = W\n",
    "    problem.solve(solver=SOLVER)\n",
    "    return x.value\n",
    "\n",
    "solve_cvxpy().argmax(1)"
   ],
   "outputs": [
    {
     "data": {
      "text/plain": [
       "array([5, 9, 3, 4, 1, 2, 6, 7, 8, 0])"
      ]
     },
     "execution_count": 17,
     "metadata": {},
     "output_type": "execute_result"
    }
   ],
   "execution_count": 17
  },
  {
   "metadata": {
    "ExecuteTime": {
     "end_time": "2025-03-25T01:59:22.402986Z",
     "start_time": "2025-03-25T01:59:22.397863Z"
    }
   },
   "cell_type": "code",
   "source": [
    "A_ub = np.tile(np.identity(M), (1, N))\n",
    "b_ub = np.full(M, max_assigned)\n",
    "\n",
    "A_eq = np.repeat(np.identity(N), M, axis=1)\n",
    "b_eq = np.full(N, 1.0)\n",
    "\n",
    "c = W.flatten()"
   ],
   "id": "77e2971b9581f4eb",
   "outputs": [],
   "execution_count": 18
  },
  {
   "metadata": {
    "ExecuteTime": {
     "end_time": "2025-03-25T01:59:22.885888Z",
     "start_time": "2025-03-25T01:59:22.877597Z"
    }
   },
   "cell_type": "code",
   "source": [
    "def solve_highs():\n",
    "    return sp.optimize.linprog(\n",
    "        c=c,\n",
    "        A_ub=A_ub,\n",
    "        b_ub=b_ub,\n",
    "        A_eq=A_eq,\n",
    "        b_eq=b_eq,\n",
    "        method=\"highs\",\n",
    "    ).x.reshape((N, M))\n",
    "solve_highs().argmax(1)"
   ],
   "id": "c46510bf119b683e",
   "outputs": [
    {
     "data": {
      "text/plain": [
       "array([5, 9, 3, 4, 1, 2, 6, 7, 8, 0])"
      ]
     },
     "execution_count": 19,
     "metadata": {},
     "output_type": "execute_result"
    }
   ],
   "execution_count": 19
  },
  {
   "metadata": {
    "ExecuteTime": {
     "end_time": "2025-03-25T01:59:23.837761Z",
     "start_time": "2025-03-25T01:59:23.830624Z"
    }
   },
   "cell_type": "code",
   "source": [
    "A_ub_sparse = sp.sparse.csr_matrix(A_ub)\n",
    "A_eq_sparse = sp.sparse.csr_matrix(A_eq)"
   ],
   "id": "710b30d6660aad60",
   "outputs": [],
   "execution_count": 20
  },
  {
   "metadata": {
    "ExecuteTime": {
     "end_time": "2025-03-25T01:59:37.978439Z",
     "start_time": "2025-03-25T01:59:31.134941Z"
    }
   },
   "cell_type": "code",
   "source": [
    "%%timeit\n",
    "solve_cvxpy()"
   ],
   "id": "95859e9d9f9e6d3a",
   "outputs": [
    {
     "name": "stdout",
     "output_type": "stream",
     "text": [
      "834 μs ± 41.7 μs per loop (mean ± std. dev. of 7 runs, 1,000 loops each)\n"
     ]
    }
   ],
   "execution_count": 21
  },
  {
   "metadata": {
    "ExecuteTime": {
     "end_time": "2025-03-25T01:59:41.077932Z",
     "start_time": "2025-03-25T01:59:37.978439Z"
    }
   },
   "cell_type": "code",
   "source": [
    "%%timeit\n",
    "solve_highs()"
   ],
   "id": "4f8c82c3e09c2f2",
   "outputs": [
    {
     "name": "stdout",
     "output_type": "stream",
     "text": [
      "3.79 ms ± 96.5 μs per loop (mean ± std. dev. of 7 runs, 100 loops each)\n"
     ]
    }
   ],
   "execution_count": 22
  },
  {
   "metadata": {},
   "cell_type": "code",
   "source": "",
   "id": "663414df07df49d8",
   "outputs": [],
   "execution_count": null
  }
 ],
 "metadata": {
  "kernelspec": {
   "display_name": "Python 3",
   "language": "python",
   "name": "python3"
  },
  "language_info": {
   "codemirror_mode": {
    "name": "ipython",
    "version": 2
   },
   "file_extension": ".py",
   "mimetype": "text/x-python",
   "name": "python",
   "nbconvert_exporter": "python",
   "pygments_lexer": "ipython2",
   "version": "2.7.6"
  }
 },
 "nbformat": 4,
 "nbformat_minor": 5
}
