{
 "cells": [
  {
   "cell_type": "code",
   "execution_count": 1,
   "id": "468aaab68aeef5c6",
   "metadata": {
    "ExecuteTime": {
     "end_time": "2025-03-26T18:23:37.397112Z",
     "start_time": "2025-03-26T18:23:35.340068Z"
    }
   },
   "outputs": [
    {
     "name": "stderr",
     "output_type": "stream",
     "text": [
      "2025-03-26 19:23:37.297 | INFO     | phantom.common.assignment:<module>:12 - cp.installed_solvers()=['CLARABEL', 'CVXOPT', 'ECOS', 'ECOS_BB', 'GLPK', 'GLPK_MI', 'HIGHS', 'MOSEK', 'OSQP', 'PIQP', 'PROXQP', 'SCIP', 'SCIPY', 'SCS', 'SDPA']\n"
     ]
    }
   ],
   "source": [
    "import math\n",
    "import sys\n",
    "\n",
    "sys.path.append(\"../ares-sc2\")  # required to import sc2_helper\n",
    "sys.path.append(\"../ares-sc2/src\")  # required to import ares\n",
    "sys.path.append(\"phantom\")\n",
    "\n",
    "import cvxpy as cp\n",
    "import scipy as sp\n",
    "import numpy as np\n",
    "\n",
    "from phantom.cvxpygen.assign.assign import cpg_assign"
   ]
  },
  {
   "cell_type": "code",
   "execution_count": 2,
   "id": "85f1acf4d28bbb87",
   "metadata": {
    "ExecuteTime": {
     "end_time": "2025-03-26T18:23:37.410056Z",
     "start_time": "2025-03-26T18:23:37.399121Z"
    }
   },
   "outputs": [
    {
     "data": {
      "text/plain": [
       "['CLARABEL',\n",
       " 'CVXOPT',\n",
       " 'ECOS',\n",
       " 'ECOS_BB',\n",
       " 'GLPK',\n",
       " 'GLPK_MI',\n",
       " 'HIGHS',\n",
       " 'MOSEK',\n",
       " 'OSQP',\n",
       " 'PIQP',\n",
       " 'PROXQP',\n",
       " 'SCIP',\n",
       " 'SCIPY',\n",
       " 'SCS',\n",
       " 'SDPA']"
      ]
     },
     "execution_count": 2,
     "metadata": {},
     "output_type": "execute_result"
    }
   ],
   "source": [
    "cp.installed_solvers()"
   ]
  },
  {
   "cell_type": "code",
   "execution_count": 3,
   "id": "d3e23e07026656da",
   "metadata": {
    "ExecuteTime": {
     "end_time": "2025-03-26T18:23:37.415223Z",
     "start_time": "2025-03-26T18:23:37.411479Z"
    }
   },
   "outputs": [],
   "source": [
    "SOLVER = cp.ECOS"
   ]
  },
  {
   "cell_type": "code",
   "execution_count": 4,
   "id": "1ddee748d1f818e",
   "metadata": {
    "ExecuteTime": {
     "end_time": "2025-03-26T18:23:37.424566Z",
     "start_time": "2025-03-26T18:23:37.416286Z"
    }
   },
   "outputs": [
    {
     "data": {
      "text/plain": [
       "array([[3.40593534e+01, 2.22624079e+00, 7.08143073e+00],\n",
       "       [8.83924358e+01, 4.18928840e+01, 1.41627379e-01],\n",
       "       [6.68707685e+00, 7.38810058e-01, 8.13476937e-01],\n",
       "       [2.27321926e+00, 1.33387354e+00, 1.83301458e+01],\n",
       "       [4.58172448e+00, 1.27551502e+00, 2.42959959e+00],\n",
       "       [1.94906283e+00, 1.98490897e+01, 6.63440220e-01],\n",
       "       [1.87036837e+00, 1.81193188e-01, 6.06039905e-03],\n",
       "       [3.69594839e+00, 5.63429708e+00, 2.26654139e-01],\n",
       "       [9.36448324e+01, 5.45448844e-02, 1.09583544e+00],\n",
       "       [6.87723989e-01, 2.14464349e+01, 1.88916030e+01],\n",
       "       [1.36328176e+00, 2.13043256e+00, 1.69386618e-01],\n",
       "       [1.90327721e-02, 4.98663231e-01, 1.36710852e+00],\n",
       "       [1.17116182e+01, 1.10757684e+01, 4.60863380e-01],\n",
       "       [5.46289895e-01, 1.22811339e-01, 5.84235700e-02],\n",
       "       [3.29573697e-02, 4.94791214e+01, 3.60845870e-01],\n",
       "       [4.16383485e-01, 8.16273648e-02, 4.73499519e+00],\n",
       "       [3.96447918e-02, 6.53455685e-01, 1.66804448e-01],\n",
       "       [2.16799981e+00, 3.60014750e-01, 9.43009167e-02],\n",
       "       [9.45194591e-01, 2.35528971e+00, 1.14228934e+00],\n",
       "       [1.83114929e+00, 2.81212635e-01, 4.84091020e-01],\n",
       "       [2.60560319e-01, 4.87187450e-01, 1.96657319e-01],\n",
       "       [3.16643067e-02, 1.42597000e+00, 4.47731359e-01],\n",
       "       [3.83731726e-02, 2.52329228e+00, 1.62903589e-01],\n",
       "       [1.10947928e+00, 4.29813464e+00, 1.29429458e+00],\n",
       "       [9.76496880e+00, 8.46143301e-02, 2.23598821e+00]])"
      ]
     },
     "execution_count": 4,
     "metadata": {},
     "output_type": "execute_result"
    }
   ],
   "source": [
    "N = 25\n",
    "M = 3\n",
    "max_assigned = math.ceil(N / M)\n",
    "np.random.seed(0)\n",
    "W = sp.stats.lognorm.rvs(s=2, size=(N, M))\n",
    "B = np.full(M, max_assigned)\n",
    "W"
   ]
  },
  {
   "cell_type": "code",
   "execution_count": 5,
   "id": "6a86e54a8b89b133",
   "metadata": {
    "ExecuteTime": {
     "end_time": "2025-03-26T18:23:37.430922Z",
     "start_time": "2025-03-26T18:23:37.425638Z"
    }
   },
   "outputs": [],
   "source": [
    "x = cp.Variable((N, M), \"x\")\n",
    "w = cp.Parameter((N, M), name=\"w\")\n",
    "constraints = [\n",
    "    cp.sum(x, 0) <= max_assigned,  # enforce even distribution\n",
    "    cp.sum(x, 1) == 1,\n",
    "    0 <= x,\n",
    "]\n",
    "problem = cp.Problem(cp.Minimize(cp.vdot(w, x)), constraints)"
   ]
  },
  {
   "cell_type": "code",
   "execution_count": 6,
   "id": "1e78654b12eeced",
   "metadata": {
    "ExecuteTime": {
     "end_time": "2025-03-26T18:23:37.450529Z",
     "start_time": "2025-03-26T18:23:37.431958Z"
    }
   },
   "outputs": [
    {
     "name": "stderr",
     "output_type": "stream",
     "text": [
      "2025-03-26 19:23:37.433 | INFO     | phantom.cvxpygen.assign.assign:load_solvers:70 - solvers=[AssignSolver(module_path='assign_12_12'), AssignSolver(module_path='assign_16_16'), AssignSolver(module_path='assign_24_24'), AssignSolver(module_path='assign_32_32'), AssignSolver(module_path='assign_4_4'), AssignSolver(module_path='assign_6_6'), AssignSolver(module_path='assign_8_8')]\n"
     ]
    },
    {
     "data": {
      "text/plain": [
       "array([2, 1, 2, 2, 2, 1, 2, 2, 1, 0, 2, 0, 2, 2, 1, 2, 0, 2, 2, 2, 0, 0,\n",
       "       0, 2, 2])"
      ]
     },
     "execution_count": 6,
     "metadata": {},
     "output_type": "execute_result"
    }
   ],
   "source": [
    "def solve_cpg():\n",
    "    return cpg_assign(W, B)\n",
    "\n",
    "\n",
    "solve_cpg().argmax(1)"
   ]
  },
  {
   "cell_type": "code",
   "execution_count": 7,
   "id": "initial_id",
   "metadata": {
    "ExecuteTime": {
     "end_time": "2025-03-26T18:23:37.468309Z",
     "start_time": "2025-03-26T18:23:37.451620Z"
    },
    "collapsed": true
   },
   "outputs": [
    {
     "data": {
      "text/plain": [
       "array([1, 2, 1, 1, 1, 2, 2, 2, 1, 0, 2, 0, 2, 2, 0, 1, 0, 2, 0, 1, 2, 0,\n",
       "       0, 0, 1])"
      ]
     },
     "execution_count": 7,
     "metadata": {},
     "output_type": "execute_result"
    }
   ],
   "source": [
    "def solve_cvxpy():\n",
    "    w.value = W\n",
    "    problem.solve(solver=\"ECOS\")\n",
    "    return x.value\n",
    "\n",
    "\n",
    "solve_cvxpy().argmax(1)"
   ]
  },
  {
   "cell_type": "code",
   "execution_count": 8,
   "id": "77e2971b9581f4eb",
   "metadata": {
    "ExecuteTime": {
     "end_time": "2025-03-26T18:23:37.474764Z",
     "start_time": "2025-03-26T18:23:37.470455Z"
    }
   },
   "outputs": [],
   "source": [
    "A_ub = np.tile(np.identity(M), (1, N))\n",
    "b_ub = np.full(M, max_assigned)\n",
    "\n",
    "A_eq = np.repeat(np.identity(N), M, axis=1)\n",
    "b_eq = np.full(N, 1.0)\n",
    "\n",
    "c = W.flatten()"
   ]
  },
  {
   "cell_type": "code",
   "execution_count": 9,
   "id": "c46510bf119b683e",
   "metadata": {
    "ExecuteTime": {
     "end_time": "2025-03-26T18:23:37.484775Z",
     "start_time": "2025-03-26T18:23:37.475279Z"
    }
   },
   "outputs": [
    {
     "data": {
      "text/plain": [
       "array([1, 2, 1, 1, 1, 2, 2, 2, 1, 0, 2, 0, 2, 2, 0, 1, 0, 2, 0, 1, 2, 0,\n",
       "       0, 0, 1])"
      ]
     },
     "execution_count": 9,
     "metadata": {},
     "output_type": "execute_result"
    }
   ],
   "source": [
    "def solve_highs():\n",
    "    return sp.optimize.linprog(\n",
    "        c=c,\n",
    "        A_ub=A_ub,\n",
    "        b_ub=b_ub,\n",
    "        A_eq=A_eq,\n",
    "        b_eq=b_eq,\n",
    "        method=\"highs\",\n",
    "    ).x.reshape((N, M))\n",
    "\n",
    "\n",
    "solve_highs().argmax(1)"
   ]
  },
  {
   "cell_type": "code",
   "execution_count": 10,
   "id": "710b30d6660aad60",
   "metadata": {
    "ExecuteTime": {
     "end_time": "2025-03-26T18:23:37.490509Z",
     "start_time": "2025-03-26T18:23:37.485785Z"
    }
   },
   "outputs": [],
   "source": [
    "A_ub_sparse = sp.sparse.csr_matrix(A_ub)\n",
    "A_eq_sparse = sp.sparse.csr_matrix(A_eq)"
   ]
  },
  {
   "cell_type": "code",
   "execution_count": 11,
   "id": "95859e9d9f9e6d3a",
   "metadata": {
    "ExecuteTime": {
     "end_time": "2025-03-26T18:23:45.054264Z",
     "start_time": "2025-03-26T18:23:37.490509Z"
    }
   },
   "outputs": [
    {
     "name": "stdout",
     "output_type": "stream",
     "text": [
      "954 μs ± 143 μs per loop (mean ± std. dev. of 7 runs, 1,000 loops each)\n"
     ]
    }
   ],
   "source": [
    "%%timeit\n",
    "solve_cvxpy()"
   ]
  },
  {
   "cell_type": "code",
   "execution_count": 12,
   "id": "4f8c82c3e09c2f2",
   "metadata": {
    "ExecuteTime": {
     "end_time": "2025-03-26T18:23:50.205626Z",
     "start_time": "2025-03-26T18:23:45.055279Z"
    }
   },
   "outputs": [
    {
     "name": "stdout",
     "output_type": "stream",
     "text": [
      "657 μs ± 67.6 μs per loop (mean ± std. dev. of 7 runs, 1,000 loops each)\n"
     ]
    }
   ],
   "source": [
    "%%timeit\n",
    "solve_highs()"
   ]
  },
  {
   "cell_type": "code",
   "execution_count": 13,
   "id": "663414df07df49d8",
   "metadata": {
    "ExecuteTime": {
     "end_time": "2025-03-26T18:23:52.462576Z",
     "start_time": "2025-03-26T18:23:50.207659Z"
    }
   },
   "outputs": [
    {
     "name": "stdout",
     "output_type": "stream",
     "text": [
      "2.8 ms ± 70.6 μs per loop (mean ± std. dev. of 7 runs, 100 loops each)\n"
     ]
    }
   ],
   "source": [
    "%%timeit\n",
    "solve_cpg()"
   ]
  }
 ],
 "metadata": {
  "kernelspec": {
   "display_name": "Python 3",
   "language": "python",
   "name": "python3"
  },
  "language_info": {
   "codemirror_mode": {
    "name": "ipython",
    "version": 2
   },
   "file_extension": ".py",
   "mimetype": "text/x-python",
   "name": "python",
   "nbconvert_exporter": "python",
   "pygments_lexer": "ipython2",
   "version": "2.7.6"
  }
 },
 "nbformat": 4,
 "nbformat_minor": 5
}
