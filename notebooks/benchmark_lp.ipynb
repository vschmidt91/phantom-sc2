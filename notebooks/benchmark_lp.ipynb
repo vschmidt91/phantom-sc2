{
 "cells": [
  {
   "cell_type": "code",
   "execution_count": 154,
   "id": "468aaab68aeef5c6",
   "metadata": {
    "ExecuteTime": {
     "end_time": "2025-03-30T18:13:11.550639Z",
     "start_time": "2025-03-30T18:13:11.538607Z"
    }
   },
   "outputs": [],
   "source": [
    "import math\n",
    "import sys\n",
    "from itertools import product\n",
    "\n",
    "sys.path.append(\"../ares-sc2\")  # required to import sc2_helper\n",
    "sys.path.append(\"../ares-sc2/src\")  # required to import ares\n",
    "sys.path.append(\"phantom\")\n",
    "\n",
    "import cvxpy as cp\n",
    "import highspy\n",
    "import numpy as np\n",
    "import scipy as sp"
   ]
  },
  {
   "cell_type": "code",
   "execution_count": 155,
   "id": "85f1acf4d28bbb87",
   "metadata": {
    "ExecuteTime": {
     "end_time": "2025-03-30T18:13:11.576481Z",
     "start_time": "2025-03-30T18:13:11.563064Z"
    }
   },
   "outputs": [
    {
     "data": {
      "text/plain": [
       "['CLARABEL', 'ECOS', 'ECOS_BB', 'HIGHS', 'OSQP', 'QOCO', 'SCIPY', 'SCS']"
      ]
     },
     "execution_count": 155,
     "metadata": {},
     "output_type": "execute_result"
    }
   ],
   "source": [
    "cp.installed_solvers()"
   ]
  },
  {
   "cell_type": "code",
   "execution_count": 156,
   "id": "d3e23e07026656da",
   "metadata": {
    "ExecuteTime": {
     "end_time": "2025-03-30T18:13:11.594686Z",
     "start_time": "2025-03-30T18:13:11.591629Z"
    }
   },
   "outputs": [],
   "source": [
    "SOLVER = cp.ECOS"
   ]
  },
  {
   "cell_type": "code",
   "execution_count": 157,
   "id": "1ddee748d1f818e",
   "metadata": {
    "ExecuteTime": {
     "end_time": "2025-03-30T18:13:11.620024Z",
     "start_time": "2025-03-30T18:13:11.615109Z"
    }
   },
   "outputs": [
    {
     "data": {
      "text/plain": [
       "array([[1.98771721e+02, 3.32168314e+00, 1.88443654e+01, ...,\n",
       "        8.21113547e+01, 1.59176311e+00, 3.10957966e+00],\n",
       "       [6.97137823e-02, 2.62574817e-03, 3.52136481e-01, ...,\n",
       "        3.40051064e-01, 8.72097758e-02, 5.63449470e-03],\n",
       "       [1.70280761e+00, 2.99589280e-01, 7.51694825e-03, ...,\n",
       "        1.87260782e+01, 2.91275448e+00, 8.32880097e+00],\n",
       "       ...,\n",
       "       [2.98453438e+00, 8.25963812e+01, 1.18903503e+02, ...,\n",
       "        8.94333859e-02, 1.14132037e+03, 2.15477620e-02],\n",
       "       [3.33986980e-01, 1.66811214e+01, 2.43561555e+00, ...,\n",
       "        4.02808200e-01, 3.75503919e+00, 1.70980375e+00],\n",
       "       [9.08752858e-02, 2.05929261e+00, 2.38062133e+00, ...,\n",
       "        8.19172111e+00, 2.85808850e-01, 3.71612040e-02]], shape=(32, 32))"
      ]
     },
     "execution_count": 157,
     "metadata": {},
     "output_type": "execute_result"
    }
   ],
   "source": [
    "N = 32\n",
    "M = 32\n",
    "max_assigned = math.ceil(N / M)\n",
    "np.random.seed(0)\n",
    "W = sp.stats.lognorm.rvs(s=3, size=(N, M))\n",
    "B = np.full(M, max_assigned)\n",
    "W"
   ]
  },
  {
   "cell_type": "code",
   "execution_count": 158,
   "id": "6a86e54a8b89b133",
   "metadata": {
    "ExecuteTime": {
     "end_time": "2025-03-30T18:13:11.664208Z",
     "start_time": "2025-03-30T18:13:11.660018Z"
    }
   },
   "outputs": [],
   "source": [
    "x = cp.Variable((N, M), \"x\")\n",
    "w = cp.Parameter((N, M), name=\"w\")\n",
    "constraints = [\n",
    "    cp.sum(x, 0) <= max_assigned,  # enforce even distribution\n",
    "    cp.sum(x, 1) == 1,\n",
    "    x >= 0,\n",
    "]\n",
    "problem = cp.Problem(cp.Minimize(cp.vdot(w, x)), constraints)"
   ]
  },
  {
   "cell_type": "code",
   "execution_count": 159,
   "id": "initial_id",
   "metadata": {
    "ExecuteTime": {
     "end_time": "2025-03-30T18:13:11.742118Z",
     "start_time": "2025-03-30T18:13:11.701316Z"
    },
    "collapsed": true
   },
   "outputs": [
    {
     "data": {
      "text/plain": [
       "array([20, 10,  2,  6, 29, 23, 13, 21, 22, 19, 14, 30,  1, 11,  9, 26, 16,\n",
       "       27,  4,  3, 28,  0, 31, 12,  7,  8, 18, 15, 17,  5, 24, 25])"
      ]
     },
     "execution_count": 159,
     "metadata": {},
     "output_type": "execute_result"
    }
   ],
   "source": [
    "def solve_cvxpy():\n",
    "    w.value = W\n",
    "    problem.solve(solver=\"ECOS\")\n",
    "    return x.value\n",
    "\n",
    "\n",
    "solve_cvxpy().argmax(1)"
   ]
  },
  {
   "cell_type": "code",
   "execution_count": 160,
   "id": "77e2971b9581f4eb",
   "metadata": {
    "ExecuteTime": {
     "end_time": "2025-03-30T18:13:11.790133Z",
     "start_time": "2025-03-30T18:13:11.786442Z"
    }
   },
   "outputs": [],
   "source": [
    "A_ub = np.tile(np.identity(M), (1, N))\n",
    "b_ub = np.full(M, max_assigned)\n",
    "\n",
    "A_eq = np.repeat(np.identity(N), M, axis=1)\n",
    "b_eq = np.full(N, 1.0)\n",
    "\n",
    "c = W.flatten()"
   ]
  },
  {
   "cell_type": "code",
   "execution_count": 161,
   "id": "c46510bf119b683e",
   "metadata": {
    "ExecuteTime": {
     "end_time": "2025-03-30T18:13:12.077091Z",
     "start_time": "2025-03-30T18:13:11.804699Z"
    }
   },
   "outputs": [
    {
     "data": {
      "text/plain": [
       "array([20, 10,  2,  6, 29, 23, 13, 21, 22, 19, 14, 30,  1, 11,  9, 26, 16,\n",
       "       27,  4,  3, 28,  0, 31, 12,  7,  8, 18, 15, 17,  5, 24, 25])"
      ]
     },
     "execution_count": 161,
     "metadata": {},
     "output_type": "execute_result"
    }
   ],
   "source": [
    "def solve_highs():\n",
    "    A_ub = np.tile(np.identity(M), (1, N))\n",
    "    b_ub = np.full(M, max_assigned)\n",
    "\n",
    "    A_eq = np.repeat(np.identity(N), M, axis=1)\n",
    "    b_eq = np.full(N, 1.0)\n",
    "\n",
    "    c = W.flatten()\n",
    "    return sp.optimize.linprog(\n",
    "        c=c,\n",
    "        A_ub=A_ub,\n",
    "        b_ub=b_ub,\n",
    "        A_eq=A_eq,\n",
    "        b_eq=b_eq,\n",
    "        method=\"highs\",\n",
    "    ).x.reshape((N, M))\n",
    "\n",
    "\n",
    "solve_highs().argmax(1)"
   ]
  },
  {
   "cell_type": "code",
   "execution_count": 162,
   "id": "2495ec314e755bfa",
   "metadata": {
    "ExecuteTime": {
     "end_time": "2025-03-30T18:13:12.108653Z",
     "start_time": "2025-03-30T18:13:12.087043Z"
    }
   },
   "outputs": [
    {
     "data": {
      "text/plain": [
       "array([20, 10,  2,  6, 29, 23, 13, 21, 22, 19, 14, 30,  1, 11,  9, 26, 16,\n",
       "       27,  4,  3, 28,  0, 31, 12,  7,  8, 18, 15, 17,  5, 24, 25])"
      ]
     },
     "execution_count": 162,
     "metadata": {},
     "output_type": "execute_result"
    }
   ],
   "source": [
    "def solve_highspy():\n",
    "    h = highspy.Highs()\n",
    "    vars = {(i, j): h.addVariable(lb=0.0, ub=1.0) for i, j in product(range(N), range(M))}\n",
    "    for j in range(M):\n",
    "        h.addConstr(sum(vars[i, j] for i in range(N)) <= max_assigned)\n",
    "    for i in range(N):\n",
    "        h.addConstr(sum(vars[i, j] for j in range(M)) == 1.0)\n",
    "    h.minimize(sum(W[i, j] * vars[i, j] for i in range(N) for j in range(M)))\n",
    "\n",
    "    # lp = h.getLp()\n",
    "    # print(lp.a_matrix_.start_)\n",
    "    # print(lp.a_matrix_.index_)\n",
    "    # print(lp.a_matrix_.value_)\n",
    "    h.run()\n",
    "\n",
    "    solution = h.getSolution()\n",
    "    return np.array(solution.col_value).reshape((N, M))\n",
    "\n",
    "\n",
    "solve_highspy().argmax(1)"
   ]
  },
  {
   "cell_type": "code",
   "execution_count": 163,
   "id": "972b1372bb7f437f",
   "metadata": {
    "ExecuteTime": {
     "end_time": "2025-03-30T18:13:12.126825Z",
     "start_time": "2025-03-30T18:13:12.121144Z"
    }
   },
   "outputs": [
    {
     "data": {
      "text/plain": [
       "array([1., 1., 1., 1., 1., 1., 1., 1., 1., 1., 1., 1., 1., 1., 1., 1., 1.,\n",
       "       1., 1., 1., 1., 1., 1., 1., 1., 1., 1., 1., 1., 1., 1., 1., 1., 1.,\n",
       "       1., 1., 1., 1., 1., 1., 1., 1., 1., 1., 1., 1., 1., 1., 1., 1., 1.,\n",
       "       1., 1., 1., 1., 1., 1., 1., 1., 1., 1., 1., 1., 1.])"
      ]
     },
     "execution_count": 163,
     "metadata": {},
     "output_type": "execute_result"
    }
   ],
   "source": [
    "np.concatenate((b_eq, b_ub))"
   ]
  },
  {
   "cell_type": "code",
   "execution_count": 164,
   "id": "269a62054df6a99c",
   "metadata": {
    "ExecuteTime": {
     "end_time": "2025-03-30T18:13:12.152092Z",
     "start_time": "2025-03-30T18:13:12.148039Z"
    }
   },
   "outputs": [
    {
     "data": {
      "text/plain": [
       "array([[1., 1., 1., ..., 0., 0., 0.],\n",
       "       [0., 0., 0., ..., 0., 0., 0.],\n",
       "       [0., 0., 0., ..., 0., 0., 0.],\n",
       "       ...,\n",
       "       [0., 0., 0., ..., 0., 0., 0.],\n",
       "       [0., 0., 0., ..., 0., 0., 0.],\n",
       "       [0., 0., 0., ..., 1., 1., 1.]], shape=(32, 1024))"
      ]
     },
     "execution_count": 164,
     "metadata": {},
     "output_type": "execute_result"
    }
   ],
   "source": [
    "A_eq"
   ]
  },
  {
   "cell_type": "code",
   "execution_count": 165,
   "id": "c3dc7eef0a33d742",
   "metadata": {
    "ExecuteTime": {
     "end_time": "2025-03-30T18:13:12.203888Z",
     "start_time": "2025-03-30T18:13:12.195538Z"
    }
   },
   "outputs": [
    {
     "data": {
      "text/plain": [
       "array([[1., 1., 1., ..., 0., 0., 0.],\n",
       "       [0., 0., 0., ..., 0., 0., 0.],\n",
       "       [0., 0., 0., ..., 0., 0., 0.],\n",
       "       ...,\n",
       "       [0., 0., 0., ..., 1., 0., 0.],\n",
       "       [0., 0., 0., ..., 0., 1., 0.],\n",
       "       [0., 0., 0., ..., 0., 0., 1.]], shape=(64, 1024))"
      ]
     },
     "execution_count": 165,
     "metadata": {},
     "output_type": "execute_result"
    }
   ],
   "source": [
    "np.concatenate((A_eq, A_ub))"
   ]
  },
  {
   "cell_type": "code",
   "execution_count": 166,
   "id": "fd6516904f28a905",
   "metadata": {
    "ExecuteTime": {
     "end_time": "2025-03-30T18:13:12.580267Z",
     "start_time": "2025-03-30T18:13:12.572773Z"
    }
   },
   "outputs": [
    {
     "data": {
      "text/plain": [
       "(array([    0,  1024,  2048,  3072,  4096,  5120,  6144,  7168,  8192,\n",
       "         9216, 10240, 11264, 12288, 13312, 14336, 15360, 16384, 17408,\n",
       "        18432, 19456, 20480, 21504, 22528, 23552, 24576, 25600, 26624,\n",
       "        27648, 28672, 29696, 30720, 31744, 32768, 33792, 34816, 35840,\n",
       "        36864, 37888, 38912, 39936, 40960, 41984, 43008, 44032, 45056,\n",
       "        46080, 47104, 48128, 49152, 50176, 51200, 52224, 53248, 54272,\n",
       "        55296, 56320, 57344, 58368, 59392, 60416, 61440, 62464, 63488,\n",
       "        64512]),\n",
       " array([   0,    1,    2, ..., 1021, 1022, 1023], shape=(65536,)),\n",
       " array([1., 1., 1., ..., 0., 0., 1.], shape=(65536,)))"
      ]
     },
     "execution_count": 166,
     "metadata": {},
     "output_type": "execute_result"
    }
   ],
   "source": [
    "np.arange((N + M) * N * M, step=N * M), np.tile(np.arange(N * M), N + M), np.concatenate((A_eq, A_ub)).flatten()"
   ]
  },
  {
   "cell_type": "code",
   "execution_count": 167,
   "id": "906f73773c252da1",
   "metadata": {
    "ExecuteTime": {
     "end_time": "2025-03-30T18:13:13.836331Z",
     "start_time": "2025-03-30T18:13:13.827849Z"
    }
   },
   "outputs": [
    {
     "data": {
      "text/plain": [
       "(array([    0,  1024,  2048,  3072,  4096,  5120,  6144,  7168,  8192,\n",
       "         9216, 10240, 11264, 12288, 13312, 14336, 15360, 16384, 17408,\n",
       "        18432, 19456, 20480, 21504, 22528, 23552, 24576, 25600, 26624,\n",
       "        27648, 28672, 29696, 30720, 31744]),\n",
       " array([   0,    1,    2, ..., 1021, 1022, 1023], shape=(32768,)),\n",
       " array([1., 1., 1., ..., 1., 1., 1.], shape=(32768,)))"
      ]
     },
     "execution_count": 167,
     "metadata": {},
     "output_type": "execute_result"
    }
   ],
   "source": [
    "np.arange(N * N * M, step=N * M), np.tile(np.arange(N * M), N), A_eq.flatten()"
   ]
  },
  {
   "cell_type": "code",
   "execution_count": 168,
   "id": "2c1ca540c5deae49",
   "metadata": {
    "ExecuteTime": {
     "end_time": "2025-03-30T18:13:16.012887Z",
     "start_time": "2025-03-30T18:13:16.009764Z"
    }
   },
   "outputs": [
    {
     "data": {
      "text/plain": [
       "array([[1., 0., 0., ..., 0., 0., 0.],\n",
       "       [0., 1., 0., ..., 0., 0., 0.],\n",
       "       [0., 0., 1., ..., 0., 0., 0.],\n",
       "       ...,\n",
       "       [0., 0., 0., ..., 1., 0., 0.],\n",
       "       [0., 0., 0., ..., 0., 1., 0.],\n",
       "       [0., 0., 0., ..., 0., 0., 1.]], shape=(32, 1024))"
      ]
     },
     "execution_count": 168,
     "metadata": {},
     "output_type": "execute_result"
    }
   ],
   "source": [
    "A_ub"
   ]
  },
  {
   "cell_type": "code",
   "execution_count": 169,
   "id": "b224914bc7d10438",
   "metadata": {
    "ExecuteTime": {
     "end_time": "2025-03-30T18:13:16.070163Z",
     "start_time": "2025-03-30T18:13:16.065071Z"
    }
   },
   "outputs": [
    {
     "data": {
      "text/plain": [
       "(array([    0,  1024,  2048,  3072,  4096,  5120,  6144,  7168,  8192,\n",
       "         9216, 10240, 11264, 12288, 13312, 14336, 15360, 16384, 17408,\n",
       "        18432, 19456, 20480, 21504, 22528, 23552, 24576, 25600, 26624,\n",
       "        27648, 28672, 29696, 30720, 31744]),\n",
       " array([   0,    1,    2, ..., 1021, 1022, 1023], shape=(32768,)),\n",
       " array([1., 0., 0., ..., 0., 0., 1.], shape=(32768,)))"
      ]
     },
     "execution_count": 169,
     "metadata": {},
     "output_type": "execute_result"
    }
   ],
   "source": [
    "np.arange(M * N * M, step=N * M), np.tile(np.arange(N * M), M), A_ub.flatten()"
   ]
  },
  {
   "cell_type": "code",
   "execution_count": 170,
   "id": "3f41091b21317fa9",
   "metadata": {
    "ExecuteTime": {
     "end_time": "2025-03-30T18:13:16.335721Z",
     "start_time": "2025-03-30T18:13:16.318621Z"
    }
   },
   "outputs": [],
   "source": [
    "h = highspy.Highs()\n",
    "h.setOptionValue(\"presolve\", \"off\")\n",
    "h.setOptionValue(\"log_to_console\", False)\n",
    "h.setOptionValue(\"output_flag\", False)\n",
    "vars = {(i, j): h.addVariable(lb=0.0, ub=1.0) for i, j in product(range(N), range(M))}\n",
    "for i in range(N):\n",
    "    h.addConstr(sum(vars[i, j] for j in range(M)) == 1.0)\n",
    "for j in range(M):\n",
    "    h.addConstr(sum(vars[i, j] for i in range(N)) <= max_assigned)\n",
    "h.minimize(sum(W[i, j] * vars[i, j] for i in range(N) for j in range(M)))\n",
    "lp = h.getLp()"
   ]
  },
  {
   "cell_type": "code",
   "execution_count": 171,
   "id": "2d203514a884714b",
   "metadata": {
    "ExecuteTime": {
     "end_time": "2025-03-30T18:13:16.353274Z",
     "start_time": "2025-03-30T18:13:16.344221Z"
    }
   },
   "outputs": [
    {
     "data": {
      "text/plain": [
       "array([20, 10,  2,  6, 29, 23, 13, 21, 22, 19, 14, 30,  1, 11,  9, 26, 16,\n",
       "       27,  4,  3, 28,  0, 31, 12,  7,  8, 18, 15, 17,  5, 24, 25])"
      ]
     },
     "execution_count": 171,
     "metadata": {},
     "output_type": "execute_result"
    }
   ],
   "source": [
    "def solve_highspy_lp():\n",
    "    lp.col_cost_ = W.flatten()\n",
    "    lp.row_upper_ = np.concatenate((np.ones(N), np.full(M, max_assigned)))\n",
    "\n",
    "    # lp = highspy.HighsLp()\n",
    "    # lp.num_col_ = N * M\n",
    "    # lp.num_row_ = N\n",
    "    # lp.col_cost_ = W.flatten()\n",
    "    # lp.col_lower_ = np.zeros(N * M)\n",
    "    # lp.col_upper_ = np.ones(N * M)\n",
    "    # lp.row_lower_ = np.ones(N)\n",
    "    # lp.row_upper_ = np.ones(N)\n",
    "    #\n",
    "    # A_ub = np.tile(np.identity(M), (1, N))\n",
    "    # A_eq = np.repeat(np.identity(N), M, axis=1)\n",
    "    #\n",
    "    # lp.a_matrix_.start_ = np.concatenate((np.arange(N * N * M, step=N * M), [N*N*M]))\n",
    "    # lp.a_matrix_.index_ = np.tile(np.arange(N * M), N)\n",
    "    # lp.a_matrix_.value_ = A_eq.flatten()\n",
    "\n",
    "    # h = highspy.Highs()\n",
    "    h.passModel(lp)\n",
    "    h.run()\n",
    "    solution = list(h.getSolution().col_value)\n",
    "    return np.asarray(solution).reshape((N, M))\n",
    "\n",
    "\n",
    "solve_highspy_lp().argmax(1)"
   ]
  },
  {
   "cell_type": "code",
   "execution_count": 172,
   "id": "311f84e310e549b2",
   "metadata": {
    "ExecuteTime": {
     "end_time": "2025-03-30T18:13:16.370637Z",
     "start_time": "2025-03-30T18:13:16.365918Z"
    }
   },
   "outputs": [
    {
     "data": {
      "text/plain": [
       "array([ 0,  0,  0, ..., 31, 31, 31], shape=(1024,))"
      ]
     },
     "execution_count": 172,
     "metadata": {},
     "output_type": "execute_result"
    }
   ],
   "source": [
    "np.repeat(np.arange(M), N)"
   ]
  },
  {
   "cell_type": "code",
   "execution_count": 173,
   "id": "799f01cd1ef4a8f6",
   "metadata": {
    "ExecuteTime": {
     "end_time": "2025-03-30T18:13:18.011730Z",
     "start_time": "2025-03-30T18:13:18.007123Z"
    }
   },
   "outputs": [
    {
     "data": {
      "text/plain": [
       "array([ 0,  1,  2, ..., 29, 30, 31], shape=(1024,))"
      ]
     },
     "execution_count": 173,
     "metadata": {},
     "output_type": "execute_result"
    }
   ],
   "source": [
    "np.tile(np.arange(M), N)"
   ]
  },
  {
   "cell_type": "code",
   "execution_count": 174,
   "id": "fc3404948aed37d2",
   "metadata": {
    "ExecuteTime": {
     "end_time": "2025-03-30T18:13:18.074441Z",
     "start_time": "2025-03-30T18:13:18.070414Z"
    }
   },
   "outputs": [
    {
     "data": {
      "text/plain": [
       "array([[1., 0., 0., ..., 0., 0., 0.],\n",
       "       [0., 1., 0., ..., 0., 0., 0.],\n",
       "       [0., 0., 1., ..., 0., 0., 0.],\n",
       "       ...,\n",
       "       [0., 0., 0., ..., 1., 0., 0.],\n",
       "       [0., 0., 0., ..., 0., 1., 0.],\n",
       "       [0., 0., 0., ..., 0., 0., 1.]], shape=(32, 1024))"
      ]
     },
     "execution_count": 174,
     "metadata": {},
     "output_type": "execute_result"
    }
   ],
   "source": [
    "A_ub"
   ]
  },
  {
   "cell_type": "code",
   "execution_count": 175,
   "id": "c35b3f0a578b323",
   "metadata": {
    "ExecuteTime": {
     "end_time": "2025-03-30T18:13:18.139252Z",
     "start_time": "2025-03-30T18:13:18.135066Z"
    }
   },
   "outputs": [
    {
     "data": {
      "text/plain": [
       "array([[1., 0., 0., ..., 0., 0., 0.],\n",
       "       [0., 1., 0., ..., 0., 0., 0.],\n",
       "       [0., 0., 1., ..., 0., 0., 0.],\n",
       "       ...,\n",
       "       [0., 0., 0., ..., 1., 0., 0.],\n",
       "       [0., 0., 0., ..., 0., 1., 0.],\n",
       "       [0., 0., 0., ..., 0., 0., 1.]], shape=(32, 1024))"
      ]
     },
     "execution_count": 175,
     "metadata": {},
     "output_type": "execute_result"
    }
   ],
   "source": [
    "A_ub_sparse = sp.sparse.csc_array(\n",
    "    (\n",
    "        np.ones(N * M),\n",
    "        (\n",
    "            np.tile(np.arange(M), N),\n",
    "            np.arange(N * M),\n",
    "        ),\n",
    "    )\n",
    ")\n",
    "A_ub_sparse.toarray()"
   ]
  },
  {
   "cell_type": "code",
   "execution_count": 176,
   "id": "df66b1875582fe64",
   "metadata": {
    "ExecuteTime": {
     "end_time": "2025-03-30T18:13:18.453053Z",
     "start_time": "2025-03-30T18:13:18.444600Z"
    }
   },
   "outputs": [
    {
     "data": {
      "text/plain": [
       "array([[1., 1., 1., ..., 0., 0., 0.],\n",
       "       [0., 0., 0., ..., 0., 0., 0.],\n",
       "       [0., 0., 0., ..., 0., 0., 0.],\n",
       "       ...,\n",
       "       [0., 0., 0., ..., 0., 0., 0.],\n",
       "       [0., 0., 0., ..., 0., 0., 0.],\n",
       "       [0., 0., 0., ..., 1., 1., 1.]], shape=(32, 1024))"
      ]
     },
     "execution_count": 176,
     "metadata": {},
     "output_type": "execute_result"
    }
   ],
   "source": [
    "A_eq"
   ]
  },
  {
   "cell_type": "code",
   "execution_count": 177,
   "id": "945a256886821a12",
   "metadata": {
    "ExecuteTime": {
     "end_time": "2025-03-30T18:13:19.403745Z",
     "start_time": "2025-03-30T18:13:19.395905Z"
    }
   },
   "outputs": [
    {
     "data": {
      "text/plain": [
       "array([[1., 1., 1., ..., 0., 0., 0.],\n",
       "       [0., 0., 0., ..., 0., 0., 0.],\n",
       "       [0., 0., 0., ..., 0., 0., 0.],\n",
       "       ...,\n",
       "       [0., 0., 0., ..., 0., 0., 0.],\n",
       "       [0., 0., 0., ..., 0., 0., 0.],\n",
       "       [0., 0., 0., ..., 1., 1., 1.]], shape=(32, 1024))"
      ]
     },
     "execution_count": 177,
     "metadata": {},
     "output_type": "execute_result"
    }
   ],
   "source": [
    "A_eq_sparse = sp.sparse.csc_array(\n",
    "    (\n",
    "        np.ones(N * M),\n",
    "        (\n",
    "            np.repeat(np.arange(N), M),\n",
    "            np.arange(N * M),\n",
    "        ),\n",
    "    )\n",
    ")\n",
    "A_eq_sparse.toarray()"
   ]
  },
  {
   "cell_type": "code",
   "execution_count": 178,
   "id": "710b30d6660aad60",
   "metadata": {
    "ExecuteTime": {
     "end_time": "2025-03-30T18:13:22.287193Z",
     "start_time": "2025-03-30T18:13:22.281847Z"
    }
   },
   "outputs": [],
   "source": [
    "A_ub_sparse = sp.sparse.csc_array(A_ub)\n",
    "A_eq_sparse = sp.sparse.csc_array(A_eq)"
   ]
  },
  {
   "cell_type": "code",
   "execution_count": 179,
   "id": "f3ff3135262bdc4b",
   "metadata": {
    "ExecuteTime": {
     "end_time": "2025-03-30T18:13:24.158533Z",
     "start_time": "2025-03-30T18:13:23.877359Z"
    }
   },
   "outputs": [
    {
     "data": {
      "text/plain": [
       "array([20, 10,  2,  6, 29, 23, 13, 21, 22, 19, 14, 30,  1, 11,  9, 26, 16,\n",
       "       27,  4,  3, 28,  0, 31, 12,  7,  8, 18, 15, 17,  5, 24, 25])"
      ]
     },
     "execution_count": 179,
     "metadata": {},
     "output_type": "execute_result"
    }
   ],
   "source": [
    "def solve_highs_sparse():\n",
    "    A_ub_sparse = sp.sparse.coo_array(\n",
    "        (\n",
    "            np.ones(N * M),\n",
    "            (\n",
    "                np.repeat(np.arange(M), N),\n",
    "                np.tile(np.arange(M), N),\n",
    "            ),\n",
    "        )\n",
    "    )\n",
    "    A_eq_sparse = sp.sparse.coo_array(A_eq)\n",
    "    return sp.optimize.linprog(\n",
    "        c=c,\n",
    "        A_ub=A_ub_sparse,\n",
    "        b_ub=b_ub,\n",
    "        A_eq=A_eq_sparse,\n",
    "        b_eq=b_eq,\n",
    "        method=\"highs\",\n",
    "    ).x.reshape((N, M))\n",
    "\n",
    "\n",
    "solve_highs().argmax(1)"
   ]
  },
  {
   "cell_type": "code",
   "execution_count": 180,
   "id": "95859e9d9f9e6d3a",
   "metadata": {
    "ExecuteTime": {
     "end_time": "2025-03-30T18:13:27.417779Z",
     "start_time": "2025-03-30T18:13:24.169242Z"
    }
   },
   "outputs": [
    {
     "name": "stdout",
     "output_type": "stream",
     "text": [
      "3.99 ms ± 785 μs per loop (mean ± std. dev. of 7 runs, 100 loops each)\n"
     ]
    }
   ],
   "source": [
    "%%timeit\n",
    "solve_cvxpy()"
   ]
  },
  {
   "cell_type": "code",
   "execution_count": 181,
   "id": "4f8c82c3e09c2f2",
   "metadata": {
    "ExecuteTime": {
     "end_time": "2025-03-30T18:13:30.259108Z",
     "start_time": "2025-03-30T18:13:27.440147Z"
    }
   },
   "outputs": [
    {
     "name": "stdout",
     "output_type": "stream",
     "text": [
      "357 ms ± 134 ms per loop (mean ± std. dev. of 7 runs, 1 loop each)\n"
     ]
    }
   ],
   "source": [
    "%%timeit\n",
    "solve_highs()"
   ]
  },
  {
   "cell_type": "code",
   "execution_count": 182,
   "id": "c87ff36a66e44b64",
   "metadata": {
    "ExecuteTime": {
     "end_time": "2025-03-30T18:13:41.829220Z",
     "start_time": "2025-03-30T18:13:30.271752Z"
    }
   },
   "outputs": [
    {
     "name": "stdout",
     "output_type": "stream",
     "text": [
      "14.3 ms ± 2.07 ms per loop (mean ± std. dev. of 7 runs, 100 loops each)\n"
     ]
    }
   ],
   "source": [
    "%%timeit\n",
    "solve_highspy()"
   ]
  },
  {
   "cell_type": "code",
   "execution_count": 183,
   "id": "eca0b95e6ced16d4",
   "metadata": {
    "ExecuteTime": {
     "end_time": "2025-03-30T18:13:46.974103Z",
     "start_time": "2025-03-30T18:13:41.846350Z"
    }
   },
   "outputs": [
    {
     "name": "stdout",
     "output_type": "stream",
     "text": [
      "634 μs ± 18.5 μs per loop (mean ± std. dev. of 7 runs, 1,000 loops each)\n"
     ]
    }
   ],
   "source": [
    "%%timeit\n",
    "solve_highspy_lp()"
   ]
  }
 ],
 "metadata": {
  "kernelspec": {
   "display_name": "Python 3",
   "language": "python",
   "name": "python3"
  },
  "language_info": {
   "codemirror_mode": {
    "name": "ipython",
    "version": 2
   },
   "file_extension": ".py",
   "mimetype": "text/x-python",
   "name": "python",
   "nbconvert_exporter": "python",
   "pygments_lexer": "ipython2",
   "version": "2.7.6"
  }
 },
 "nbformat": 4,
 "nbformat_minor": 5
}
