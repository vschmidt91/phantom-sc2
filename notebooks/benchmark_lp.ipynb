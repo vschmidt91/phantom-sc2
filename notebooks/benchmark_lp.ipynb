{
 "cells": [
  {
   "cell_type": "code",
   "execution_count": 117,
   "id": "468aaab68aeef5c6",
   "metadata": {
    "ExecuteTime": {
     "end_time": "2025-03-30T00:40:30.772219Z",
     "start_time": "2025-03-30T00:40:30.767220Z"
    }
   },
   "outputs": [],
   "source": [
    "import math\n",
    "import sys\n",
    "\n",
    "sys.path.append(\"../ares-sc2\")  # required to import sc2_helper\n",
    "sys.path.append(\"../ares-sc2/src\")  # required to import ares\n",
    "sys.path.append(\"phantom\")\n",
    "\n",
    "import cvxpy as cp\n",
    "import numpy as np\n",
    "import scipy as sp"
   ]
  },
  {
   "cell_type": "code",
   "execution_count": 118,
   "id": "85f1acf4d28bbb87",
   "metadata": {
    "ExecuteTime": {
     "end_time": "2025-03-30T00:40:30.811107Z",
     "start_time": "2025-03-30T00:40:30.791831Z"
    }
   },
   "outputs": [
    {
     "data": {
      "text/plain": [
       "['CLARABEL', 'ECOS', 'ECOS_BB', 'OSQP', 'QOCO', 'SCIPY', 'SCS']"
      ]
     },
     "execution_count": 118,
     "metadata": {},
     "output_type": "execute_result"
    }
   ],
   "source": [
    "cp.installed_solvers()"
   ]
  },
  {
   "cell_type": "code",
   "execution_count": 119,
   "id": "d3e23e07026656da",
   "metadata": {
    "ExecuteTime": {
     "end_time": "2025-03-30T00:40:30.852040Z",
     "start_time": "2025-03-30T00:40:30.848703Z"
    }
   },
   "outputs": [],
   "source": [
    "SOLVER = cp.ECOS"
   ]
  },
  {
   "cell_type": "code",
   "execution_count": 120,
   "id": "1ddee748d1f818e",
   "metadata": {
    "ExecuteTime": {
     "end_time": "2025-03-30T00:40:30.878201Z",
     "start_time": "2025-03-30T00:40:30.873740Z"
    }
   },
   "outputs": [
    {
     "data": {
      "text/plain": [
       "array([[1.98771721e+02, 3.32168314e+00, 1.88443654e+01, 8.31041387e+02],\n",
       "       [2.71150487e+02, 5.32992169e-02, 1.72923681e+01, 6.35037247e-01],\n",
       "       [7.33698898e-01, 3.42737789e+00, 1.54053647e+00, 7.84781719e+01]])"
      ]
     },
     "execution_count": 120,
     "metadata": {},
     "output_type": "execute_result"
    }
   ],
   "source": [
    "N = 3\n",
    "M = 4\n",
    "max_assigned = math.ceil(N / M)\n",
    "np.random.seed(0)\n",
    "W = sp.stats.lognorm.rvs(s=3, size=(N, M))\n",
    "B = np.full(M, max_assigned)\n",
    "W"
   ]
  },
  {
   "cell_type": "code",
   "execution_count": 121,
   "id": "6a86e54a8b89b133",
   "metadata": {
    "ExecuteTime": {
     "end_time": "2025-03-30T00:40:30.933728Z",
     "start_time": "2025-03-30T00:40:30.929316Z"
    }
   },
   "outputs": [],
   "source": [
    "x = cp.Variable((N, M), \"x\")\n",
    "w = cp.Parameter((N, M), name=\"w\")\n",
    "constraints = [\n",
    "    cp.sum(x, 0) <= max_assigned,  # enforce even distribution\n",
    "    cp.sum(x, 1) == 1,\n",
    "    x >= 0,\n",
    "]\n",
    "problem = cp.Problem(cp.Minimize(cp.vdot(w, x)), constraints)"
   ]
  },
  {
   "cell_type": "code",
   "execution_count": 122,
   "id": "initial_id",
   "metadata": {
    "ExecuteTime": {
     "end_time": "2025-03-30T00:40:30.979556Z",
     "start_time": "2025-03-30T00:40:30.972009Z"
    },
    "collapsed": true
   },
   "outputs": [
    {
     "data": {
      "text/plain": [
       "array([1, 3, 0])"
      ]
     },
     "execution_count": 122,
     "metadata": {},
     "output_type": "execute_result"
    }
   ],
   "source": [
    "def solve_cvxpy():\n",
    "    w.value = W\n",
    "    problem.solve(solver=\"ECOS\")\n",
    "    return x.value\n",
    "\n",
    "\n",
    "solve_cvxpy().argmax(1)"
   ]
  },
  {
   "cell_type": "code",
   "execution_count": 123,
   "id": "77e2971b9581f4eb",
   "metadata": {
    "ExecuteTime": {
     "end_time": "2025-03-30T00:40:31.032793Z",
     "start_time": "2025-03-30T00:40:31.029199Z"
    }
   },
   "outputs": [],
   "source": [
    "A_ub = np.tile(np.identity(M), (1, N))\n",
    "b_ub = np.full(M, max_assigned)\n",
    "\n",
    "A_eq = np.repeat(np.identity(N), M, axis=1)\n",
    "b_eq = np.full(N, 1.0)\n",
    "\n",
    "c = W.flatten()"
   ]
  },
  {
   "cell_type": "code",
   "execution_count": 124,
   "id": "c46510bf119b683e",
   "metadata": {
    "ExecuteTime": {
     "end_time": "2025-03-30T00:40:31.050658Z",
     "start_time": "2025-03-30T00:40:31.043783Z"
    }
   },
   "outputs": [
    {
     "data": {
      "text/plain": [
       "array([1, 3, 0])"
      ]
     },
     "execution_count": 124,
     "metadata": {},
     "output_type": "execute_result"
    }
   ],
   "source": [
    "def solve_highs():\n",
    "    A_ub = np.tile(np.identity(M), (1, N))\n",
    "    b_ub = np.full(M, max_assigned)\n",
    "\n",
    "    A_eq = np.repeat(np.identity(N), M, axis=1)\n",
    "    b_eq = np.full(N, 1.0)\n",
    "\n",
    "    c = W.flatten()\n",
    "    return sp.optimize.linprog(\n",
    "        c=c,\n",
    "        A_ub=A_ub,\n",
    "        b_ub=b_ub,\n",
    "        A_eq=A_eq,\n",
    "        b_eq=b_eq,\n",
    "        method=\"highs\",\n",
    "    ).x.reshape((N, M))\n",
    "\n",
    "\n",
    "solve_highs().argmax(1)"
   ]
  },
  {
   "cell_type": "code",
   "execution_count": 125,
   "id": "311f84e310e549b2",
   "metadata": {
    "ExecuteTime": {
     "end_time": "2025-03-30T00:40:31.079591Z",
     "start_time": "2025-03-30T00:40:31.074807Z"
    }
   },
   "outputs": [
    {
     "data": {
      "text/plain": [
       "array([0, 0, 0, 1, 1, 1, 2, 2, 2, 3, 3, 3])"
      ]
     },
     "execution_count": 125,
     "metadata": {},
     "output_type": "execute_result"
    }
   ],
   "source": [
    "np.repeat(np.arange(M), N)"
   ]
  },
  {
   "cell_type": "code",
   "execution_count": 126,
   "id": "799f01cd1ef4a8f6",
   "metadata": {
    "ExecuteTime": {
     "end_time": "2025-03-30T00:40:31.102934Z",
     "start_time": "2025-03-30T00:40:31.099751Z"
    }
   },
   "outputs": [
    {
     "data": {
      "text/plain": [
       "array([0, 1, 2, 3, 0, 1, 2, 3, 0, 1, 2, 3])"
      ]
     },
     "execution_count": 126,
     "metadata": {},
     "output_type": "execute_result"
    }
   ],
   "source": [
    "np.tile(np.arange(M), N)"
   ]
  },
  {
   "cell_type": "code",
   "execution_count": 127,
   "id": "fc3404948aed37d2",
   "metadata": {
    "ExecuteTime": {
     "end_time": "2025-03-30T00:40:31.137379Z",
     "start_time": "2025-03-30T00:40:31.133256Z"
    }
   },
   "outputs": [
    {
     "data": {
      "text/plain": [
       "array([[1., 0., 0., 0., 1., 0., 0., 0., 1., 0., 0., 0.],\n",
       "       [0., 1., 0., 0., 0., 1., 0., 0., 0., 1., 0., 0.],\n",
       "       [0., 0., 1., 0., 0., 0., 1., 0., 0., 0., 1., 0.],\n",
       "       [0., 0., 0., 1., 0., 0., 0., 1., 0., 0., 0., 1.]])"
      ]
     },
     "execution_count": 127,
     "metadata": {},
     "output_type": "execute_result"
    }
   ],
   "source": [
    "A_ub"
   ]
  },
  {
   "cell_type": "code",
   "execution_count": 128,
   "id": "c35b3f0a578b323",
   "metadata": {
    "ExecuteTime": {
     "end_time": "2025-03-30T00:40:31.190807Z",
     "start_time": "2025-03-30T00:40:31.186290Z"
    }
   },
   "outputs": [
    {
     "data": {
      "text/plain": [
       "array([[1., 0., 0., 0., 1., 0., 0., 0., 1., 0., 0., 0.],\n",
       "       [0., 1., 0., 0., 0., 1., 0., 0., 0., 1., 0., 0.],\n",
       "       [0., 0., 1., 0., 0., 0., 1., 0., 0., 0., 1., 0.],\n",
       "       [0., 0., 0., 1., 0., 0., 0., 1., 0., 0., 0., 1.]])"
      ]
     },
     "execution_count": 128,
     "metadata": {},
     "output_type": "execute_result"
    }
   ],
   "source": [
    "A_ub_sparse = sp.sparse.csc_array(\n",
    "    (\n",
    "        np.ones(N * M),\n",
    "        (\n",
    "            np.tile(np.arange(M), N),\n",
    "            np.arange(N * M),\n",
    "        ),\n",
    "    )\n",
    ")\n",
    "A_ub_sparse.toarray()"
   ]
  },
  {
   "cell_type": "code",
   "execution_count": 129,
   "id": "df66b1875582fe64",
   "metadata": {
    "ExecuteTime": {
     "end_time": "2025-03-30T00:40:31.362040Z",
     "start_time": "2025-03-30T00:40:31.356851Z"
    }
   },
   "outputs": [
    {
     "data": {
      "text/plain": [
       "array([[1., 1., 1., 1., 0., 0., 0., 0., 0., 0., 0., 0.],\n",
       "       [0., 0., 0., 0., 1., 1., 1., 1., 0., 0., 0., 0.],\n",
       "       [0., 0., 0., 0., 0., 0., 0., 0., 1., 1., 1., 1.]])"
      ]
     },
     "execution_count": 129,
     "metadata": {},
     "output_type": "execute_result"
    }
   ],
   "source": [
    "A_eq"
   ]
  },
  {
   "cell_type": "code",
   "execution_count": 130,
   "id": "945a256886821a12",
   "metadata": {
    "ExecuteTime": {
     "end_time": "2025-03-30T00:40:31.454210Z",
     "start_time": "2025-03-30T00:40:31.449059Z"
    }
   },
   "outputs": [
    {
     "data": {
      "text/plain": [
       "array([[1., 1., 1., 1., 0., 0., 0., 0., 0., 0., 0., 0.],\n",
       "       [0., 0., 0., 0., 1., 1., 1., 1., 0., 0., 0., 0.],\n",
       "       [0., 0., 0., 0., 0., 0., 0., 0., 1., 1., 1., 1.]])"
      ]
     },
     "execution_count": 130,
     "metadata": {},
     "output_type": "execute_result"
    }
   ],
   "source": [
    "A_eq_sparse = sp.sparse.csc_array(\n",
    "    (\n",
    "        np.ones(N * M),\n",
    "        (\n",
    "            np.repeat(np.arange(N), M),\n",
    "            np.arange(N * M),\n",
    "        ),\n",
    "    )\n",
    ")\n",
    "A_eq_sparse.toarray()"
   ]
  },
  {
   "cell_type": "code",
   "execution_count": 131,
   "id": "710b30d6660aad60",
   "metadata": {
    "ExecuteTime": {
     "end_time": "2025-03-30T00:40:31.558811Z",
     "start_time": "2025-03-30T00:40:31.554750Z"
    }
   },
   "outputs": [],
   "source": [
    "A_ub_sparse = sp.sparse.csc_array(A_ub)\n",
    "A_eq_sparse = sp.sparse.csc_array(A_eq)"
   ]
  },
  {
   "cell_type": "code",
   "execution_count": 132,
   "id": "f3ff3135262bdc4b",
   "metadata": {
    "ExecuteTime": {
     "end_time": "2025-03-30T00:40:31.684779Z",
     "start_time": "2025-03-30T00:40:31.678272Z"
    }
   },
   "outputs": [
    {
     "data": {
      "text/plain": [
       "array([1, 3, 0])"
      ]
     },
     "execution_count": 132,
     "metadata": {},
     "output_type": "execute_result"
    }
   ],
   "source": [
    "def solve_highs_sparse():\n",
    "    A_ub_sparse = sp.sparse.csc_array(\n",
    "        (\n",
    "            np.ones(N * M),\n",
    "            (\n",
    "                np.repeat(np.arange(M), N),\n",
    "                np.tile(np.arange(M), N),\n",
    "            ),\n",
    "        )\n",
    "    )\n",
    "    A_eq_sparse = sp.sparse.csc_array(A_eq)\n",
    "    return sp.optimize.linprog(\n",
    "        c=c,\n",
    "        A_ub=A_ub_sparse,\n",
    "        b_ub=b_ub,\n",
    "        A_eq=A_eq_sparse,\n",
    "        b_eq=b_eq,\n",
    "        method=\"highs\",\n",
    "    ).x.reshape((N, M))\n",
    "\n",
    "\n",
    "solve_highs().argmax(1)"
   ]
  },
  {
   "cell_type": "code",
   "execution_count": 133,
   "id": "95859e9d9f9e6d3a",
   "metadata": {
    "ExecuteTime": {
     "end_time": "2025-03-30T00:40:36.598627Z",
     "start_time": "2025-03-30T00:40:31.744671Z"
    }
   },
   "outputs": [
    {
     "name": "stdout",
     "output_type": "stream",
     "text": [
      "579 μs ± 17.1 μs per loop (mean ± std. dev. of 7 runs, 1,000 loops each)\n"
     ]
    }
   ],
   "source": [
    "%%timeit\n",
    "solve_cvxpy()"
   ]
  },
  {
   "cell_type": "code",
   "execution_count": 134,
   "id": "4f8c82c3e09c2f2",
   "metadata": {
    "ExecuteTime": {
     "end_time": "2025-03-30T00:40:43.938125Z",
     "start_time": "2025-03-30T00:40:36.611120Z"
    }
   },
   "outputs": [
    {
     "name": "stdout",
     "output_type": "stream",
     "text": [
      "902 μs ± 22.5 μs per loop (mean ± std. dev. of 7 runs, 1,000 loops each)\n"
     ]
    }
   ],
   "source": [
    "%%timeit\n",
    "solve_highs()"
   ]
  },
  {
   "cell_type": "code",
   "execution_count": 135,
   "id": "eca0b95e6ced16d4",
   "metadata": {
    "ExecuteTime": {
     "end_time": "2025-03-30T00:40:44.037457Z",
     "start_time": "2025-03-30T00:40:43.949038Z"
    }
   },
   "outputs": [
    {
     "ename": "ValueError",
     "evalue": "Invalid input for linprog: A_ub must have exactly two dimensions, and the number of columns in A_ub must be equal to the size of c",
     "output_type": "error",
     "traceback": [
      "\u001b[31m---------------------------------------------------------------------------\u001b[39m",
      "\u001b[31mValueError\u001b[39m                                Traceback (most recent call last)",
      "\u001b[36mCell\u001b[39m\u001b[36m \u001b[39m\u001b[32mIn[135]\u001b[39m\u001b[32m, line 1\u001b[39m\n\u001b[32m----> \u001b[39m\u001b[32m1\u001b[39m \u001b[43mget_ipython\u001b[49m\u001b[43m(\u001b[49m\u001b[43m)\u001b[49m\u001b[43m.\u001b[49m\u001b[43mrun_cell_magic\u001b[49m\u001b[43m(\u001b[49m\u001b[33;43m'\u001b[39;49m\u001b[33;43mtimeit\u001b[39;49m\u001b[33;43m'\u001b[39;49m\u001b[43m,\u001b[49m\u001b[43m \u001b[49m\u001b[33;43m'\u001b[39;49m\u001b[33;43m'\u001b[39;49m\u001b[43m,\u001b[49m\u001b[43m \u001b[49m\u001b[33;43m'\u001b[39;49m\u001b[33;43msolve_highs_sparse()\u001b[39;49m\u001b[38;5;130;43;01m\\n\u001b[39;49;00m\u001b[33;43m'\u001b[39;49m\u001b[43m)\u001b[49m\n",
      "\u001b[36mFile \u001b[39m\u001b[32m~\\PycharmProjects\\phantom-sc2\\.venv\\Lib\\site-packages\\IPython\\core\\interactiveshell.py:2542\u001b[39m, in \u001b[36mInteractiveShell.run_cell_magic\u001b[39m\u001b[34m(self, magic_name, line, cell)\u001b[39m\n\u001b[32m   2540\u001b[39m \u001b[38;5;28;01mwith\u001b[39;00m \u001b[38;5;28mself\u001b[39m.builtin_trap:\n\u001b[32m   2541\u001b[39m     args = (magic_arg_s, cell)\n\u001b[32m-> \u001b[39m\u001b[32m2542\u001b[39m     result = \u001b[43mfn\u001b[49m\u001b[43m(\u001b[49m\u001b[43m*\u001b[49m\u001b[43margs\u001b[49m\u001b[43m,\u001b[49m\u001b[43m \u001b[49m\u001b[43m*\u001b[49m\u001b[43m*\u001b[49m\u001b[43mkwargs\u001b[49m\u001b[43m)\u001b[49m\n\u001b[32m   2544\u001b[39m \u001b[38;5;66;03m# The code below prevents the output from being displayed\u001b[39;00m\n\u001b[32m   2545\u001b[39m \u001b[38;5;66;03m# when using magics with decorator @output_can_be_silenced\u001b[39;00m\n\u001b[32m   2546\u001b[39m \u001b[38;5;66;03m# when the last Python token in the expression is a ';'.\u001b[39;00m\n\u001b[32m   2547\u001b[39m \u001b[38;5;28;01mif\u001b[39;00m \u001b[38;5;28mgetattr\u001b[39m(fn, magic.MAGIC_OUTPUT_CAN_BE_SILENCED, \u001b[38;5;28;01mFalse\u001b[39;00m):\n",
      "\u001b[36mFile \u001b[39m\u001b[32m~\\PycharmProjects\\phantom-sc2\\.venv\\Lib\\site-packages\\IPython\\core\\magics\\execution.py:1221\u001b[39m, in \u001b[36mExecutionMagics.timeit\u001b[39m\u001b[34m(self, line, cell, local_ns)\u001b[39m\n\u001b[32m   1219\u001b[39m \u001b[38;5;28;01mfor\u001b[39;00m index \u001b[38;5;129;01min\u001b[39;00m \u001b[38;5;28mrange\u001b[39m(\u001b[32m0\u001b[39m, \u001b[32m10\u001b[39m):\n\u001b[32m   1220\u001b[39m     number = \u001b[32m10\u001b[39m ** index\n\u001b[32m-> \u001b[39m\u001b[32m1221\u001b[39m     time_number = \u001b[43mtimer\u001b[49m\u001b[43m.\u001b[49m\u001b[43mtimeit\u001b[49m\u001b[43m(\u001b[49m\u001b[43mnumber\u001b[49m\u001b[43m)\u001b[49m\n\u001b[32m   1222\u001b[39m     \u001b[38;5;28;01mif\u001b[39;00m time_number >= \u001b[32m0.2\u001b[39m:\n\u001b[32m   1223\u001b[39m         \u001b[38;5;28;01mbreak\u001b[39;00m\n",
      "\u001b[36mFile \u001b[39m\u001b[32m~\\PycharmProjects\\phantom-sc2\\.venv\\Lib\\site-packages\\IPython\\core\\magics\\execution.py:182\u001b[39m, in \u001b[36mTimer.timeit\u001b[39m\u001b[34m(self, number)\u001b[39m\n\u001b[32m    180\u001b[39m gc.disable()\n\u001b[32m    181\u001b[39m \u001b[38;5;28;01mtry\u001b[39;00m:\n\u001b[32m--> \u001b[39m\u001b[32m182\u001b[39m     timing = \u001b[38;5;28;43mself\u001b[39;49m\u001b[43m.\u001b[49m\u001b[43minner\u001b[49m\u001b[43m(\u001b[49m\u001b[43mit\u001b[49m\u001b[43m,\u001b[49m\u001b[43m \u001b[49m\u001b[38;5;28;43mself\u001b[39;49m\u001b[43m.\u001b[49m\u001b[43mtimer\u001b[49m\u001b[43m)\u001b[49m\n\u001b[32m    183\u001b[39m \u001b[38;5;28;01mfinally\u001b[39;00m:\n\u001b[32m    184\u001b[39m     \u001b[38;5;28;01mif\u001b[39;00m gcold:\n",
      "\u001b[36mFile \u001b[39m\u001b[32m<magic-timeit>:1\u001b[39m, in \u001b[36minner\u001b[39m\u001b[34m(_it, _timer)\u001b[39m\n",
      "\u001b[36mCell\u001b[39m\u001b[36m \u001b[39m\u001b[32mIn[132]\u001b[39m\u001b[32m, line 10\u001b[39m, in \u001b[36msolve_highs_sparse\u001b[39m\u001b[34m()\u001b[39m\n\u001b[32m      2\u001b[39m A_ub_sparse = sp.sparse.csc_array((\n\u001b[32m      3\u001b[39m     np.ones(N * M),\n\u001b[32m      4\u001b[39m     (\n\u001b[32m   (...)\u001b[39m\u001b[32m      7\u001b[39m     )\n\u001b[32m      8\u001b[39m ))\n\u001b[32m      9\u001b[39m A_eq_sparse = sp.sparse.csc_array(A_eq)\n\u001b[32m---> \u001b[39m\u001b[32m10\u001b[39m \u001b[38;5;28;01mreturn\u001b[39;00m \u001b[43msp\u001b[49m\u001b[43m.\u001b[49m\u001b[43moptimize\u001b[49m\u001b[43m.\u001b[49m\u001b[43mlinprog\u001b[49m\u001b[43m(\u001b[49m\n\u001b[32m     11\u001b[39m \u001b[43m    \u001b[49m\u001b[43mc\u001b[49m\u001b[43m=\u001b[49m\u001b[43mc\u001b[49m\u001b[43m,\u001b[49m\n\u001b[32m     12\u001b[39m \u001b[43m    \u001b[49m\u001b[43mA_ub\u001b[49m\u001b[43m=\u001b[49m\u001b[43mA_ub_sparse\u001b[49m\u001b[43m,\u001b[49m\n\u001b[32m     13\u001b[39m \u001b[43m    \u001b[49m\u001b[43mb_ub\u001b[49m\u001b[43m=\u001b[49m\u001b[43mb_ub\u001b[49m\u001b[43m,\u001b[49m\n\u001b[32m     14\u001b[39m \u001b[43m    \u001b[49m\u001b[43mA_eq\u001b[49m\u001b[43m=\u001b[49m\u001b[43mA_eq_sparse\u001b[49m\u001b[43m,\u001b[49m\n\u001b[32m     15\u001b[39m \u001b[43m    \u001b[49m\u001b[43mb_eq\u001b[49m\u001b[43m=\u001b[49m\u001b[43mb_eq\u001b[49m\u001b[43m,\u001b[49m\n\u001b[32m     16\u001b[39m \u001b[43m    \u001b[49m\u001b[43mmethod\u001b[49m\u001b[43m=\u001b[49m\u001b[33;43m\"\u001b[39;49m\u001b[33;43mhighs\u001b[39;49m\u001b[33;43m\"\u001b[39;49m\u001b[43m,\u001b[49m\n\u001b[32m     17\u001b[39m \u001b[43m\u001b[49m\u001b[43m)\u001b[49m.x.reshape((N, M))\n",
      "\u001b[36mFile \u001b[39m\u001b[32m~\\PycharmProjects\\phantom-sc2\\.venv\\Lib\\site-packages\\scipy\\optimize\\_linprog.py:649\u001b[39m, in \u001b[36mlinprog\u001b[39m\u001b[34m(c, A_ub, b_ub, A_eq, b_eq, bounds, method, callback, options, x0, integrality)\u001b[39m\n\u001b[32m    646\u001b[39m     integrality = \u001b[38;5;28;01mNone\u001b[39;00m\n\u001b[32m    648\u001b[39m lp = _LPProblem(c, A_ub, b_ub, A_eq, b_eq, bounds, x0, integrality)\n\u001b[32m--> \u001b[39m\u001b[32m649\u001b[39m lp, solver_options = \u001b[43m_parse_linprog\u001b[49m\u001b[43m(\u001b[49m\u001b[43mlp\u001b[49m\u001b[43m,\u001b[49m\u001b[43m \u001b[49m\u001b[43moptions\u001b[49m\u001b[43m,\u001b[49m\u001b[43m \u001b[49m\u001b[43mmeth\u001b[49m\u001b[43m)\u001b[49m\n\u001b[32m    650\u001b[39m tol = solver_options.get(\u001b[33m'\u001b[39m\u001b[33mtol\u001b[39m\u001b[33m'\u001b[39m, \u001b[32m1e-9\u001b[39m)\n\u001b[32m    652\u001b[39m \u001b[38;5;66;03m# Give unmodified problem to HiGHS\u001b[39;00m\n",
      "\u001b[36mFile \u001b[39m\u001b[32m~\\PycharmProjects\\phantom-sc2\\.venv\\Lib\\site-packages\\scipy\\optimize\\_linprog_util.py:1026\u001b[39m, in \u001b[36m_parse_linprog\u001b[39m\u001b[34m(lp, options, meth)\u001b[39m\n\u001b[32m   1023\u001b[39m solver_options, A_ub, A_eq = _check_sparse_inputs(solver_options, meth,\n\u001b[32m   1024\u001b[39m                                                   lp.A_ub, lp.A_eq)\n\u001b[32m   1025\u001b[39m \u001b[38;5;66;03m# Convert lists to numpy arrays, etc...\u001b[39;00m\n\u001b[32m-> \u001b[39m\u001b[32m1026\u001b[39m lp = \u001b[43m_clean_inputs\u001b[49m\u001b[43m(\u001b[49m\u001b[43mlp\u001b[49m\u001b[43m.\u001b[49m\u001b[43m_replace\u001b[49m\u001b[43m(\u001b[49m\u001b[43mA_ub\u001b[49m\u001b[43m=\u001b[49m\u001b[43mA_ub\u001b[49m\u001b[43m,\u001b[49m\u001b[43m \u001b[49m\u001b[43mA_eq\u001b[49m\u001b[43m=\u001b[49m\u001b[43mA_eq\u001b[49m\u001b[43m)\u001b[49m\u001b[43m)\u001b[49m\n\u001b[32m   1027\u001b[39m \u001b[38;5;28;01mreturn\u001b[39;00m lp, solver_options\n",
      "\u001b[36mFile \u001b[39m\u001b[32m~\\PycharmProjects\\phantom-sc2\\.venv\\Lib\\site-packages\\scipy\\optimize\\_linprog_util.py:320\u001b[39m, in \u001b[36m_clean_inputs\u001b[39m\u001b[34m(lp)\u001b[39m\n\u001b[32m    318\u001b[39m n_ub = A_ub.shape[\u001b[32m0\u001b[39m]\n\u001b[32m    319\u001b[39m \u001b[38;5;28;01mif\u001b[39;00m \u001b[38;5;28mlen\u001b[39m(A_ub.shape) != \u001b[32m2\u001b[39m \u001b[38;5;129;01mor\u001b[39;00m A_ub.shape[\u001b[32m1\u001b[39m] != n_x:\n\u001b[32m--> \u001b[39m\u001b[32m320\u001b[39m     \u001b[38;5;28;01mraise\u001b[39;00m \u001b[38;5;167;01mValueError\u001b[39;00m(\n\u001b[32m    321\u001b[39m         \u001b[33m\"\u001b[39m\u001b[33mInvalid input for linprog: A_ub must have exactly two \u001b[39m\u001b[33m\"\u001b[39m\n\u001b[32m    322\u001b[39m         \u001b[33m\"\u001b[39m\u001b[33mdimensions, and the number of columns in A_ub must be \u001b[39m\u001b[33m\"\u001b[39m\n\u001b[32m    323\u001b[39m         \u001b[33m\"\u001b[39m\u001b[33mequal to the size of c\u001b[39m\u001b[33m\"\u001b[39m)\n\u001b[32m    324\u001b[39m \u001b[38;5;28;01mif\u001b[39;00m (sps.issparse(A_ub) \u001b[38;5;129;01mand\u001b[39;00m \u001b[38;5;129;01mnot\u001b[39;00m np.isfinite(A_ub.data).all()\n\u001b[32m    325\u001b[39m         \u001b[38;5;129;01mor\u001b[39;00m \u001b[38;5;129;01mnot\u001b[39;00m sps.issparse(A_ub) \u001b[38;5;129;01mand\u001b[39;00m \u001b[38;5;129;01mnot\u001b[39;00m np.isfinite(A_ub).all()):\n\u001b[32m    326\u001b[39m     \u001b[38;5;28;01mraise\u001b[39;00m \u001b[38;5;167;01mValueError\u001b[39;00m(\n\u001b[32m    327\u001b[39m         \u001b[33m\"\u001b[39m\u001b[33mInvalid input for linprog: A_ub must not contain values \u001b[39m\u001b[33m\"\u001b[39m\n\u001b[32m    328\u001b[39m         \u001b[33m\"\u001b[39m\u001b[33minf, nan, or None\u001b[39m\u001b[33m\"\u001b[39m)\n",
      "\u001b[31mValueError\u001b[39m: Invalid input for linprog: A_ub must have exactly two dimensions, and the number of columns in A_ub must be equal to the size of c"
     ]
    }
   ],
   "source": [
    "%%timeit\n",
    "solve_highs_sparse()"
   ]
  }
 ],
 "metadata": {
  "kernelspec": {
   "display_name": "Python 3",
   "language": "python",
   "name": "python3"
  },
  "language_info": {
   "codemirror_mode": {
    "name": "ipython",
    "version": 2
   },
   "file_extension": ".py",
   "mimetype": "text/x-python",
   "name": "python",
   "nbconvert_exporter": "python",
   "pygments_lexer": "ipython2",
   "version": "2.7.6"
  }
 },
 "nbformat": 4,
 "nbformat_minor": 5
}
