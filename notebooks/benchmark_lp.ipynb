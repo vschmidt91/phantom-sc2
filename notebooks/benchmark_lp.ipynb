{
 "cells": [
  {
   "cell_type": "code",
   "execution_count": 74,
   "id": "468aaab68aeef5c6",
   "metadata": {
    "ExecuteTime": {
     "end_time": "2025-05-16T19:18:31.797252Z",
     "start_time": "2025-05-16T19:18:31.791926Z"
    }
   },
   "outputs": [],
   "source": [
    "import math\n",
    "import sys\n",
    "from itertools import product\n",
    "\n",
    "sys.path.append(\"../ares-sc2\")  # required to import sc2_helper\n",
    "sys.path.append(\"../ares-sc2/src\")  # required to import ares\n",
    "sys.path.append(\"phantom\")\n",
    "\n",
    "import cvxpy as cp\n",
    "import highspy\n",
    "import numpy as np\n",
    "import scipy as sp"
   ]
  },
  {
   "cell_type": "code",
   "execution_count": 75,
   "id": "85f1acf4d28bbb87",
   "metadata": {
    "ExecuteTime": {
     "end_time": "2025-05-16T19:18:31.822707Z",
     "start_time": "2025-05-16T19:18:31.797252Z"
    }
   },
   "outputs": [
    {
     "data": {
      "text/plain": [
       "['CLARABEL', 'ECOS', 'ECOS_BB', 'HIGHS', 'OSQP', 'QOCO', 'SCIPY', 'SCS']"
      ]
     },
     "execution_count": 75,
     "metadata": {},
     "output_type": "execute_result"
    }
   ],
   "source": [
    "cp.installed_solvers()"
   ]
  },
  {
   "cell_type": "code",
   "execution_count": 76,
   "id": "d3e23e07026656da",
   "metadata": {
    "ExecuteTime": {
     "end_time": "2025-05-16T19:18:31.828364Z",
     "start_time": "2025-05-16T19:18:31.822707Z"
    }
   },
   "outputs": [],
   "source": [
    "SOLVER = cp.ECOS"
   ]
  },
  {
   "cell_type": "code",
   "execution_count": 77,
   "id": "1ddee748d1f818e",
   "metadata": {
    "ExecuteTime": {
     "end_time": "2025-05-16T19:18:31.912885Z",
     "start_time": "2025-05-16T19:18:31.901010Z"
    }
   },
   "outputs": [
    {
     "data": {
      "text/plain": [
       "array([[3.08094852e-01, 1.69887480e+02, 9.29891005e-02, ...,\n",
       "        1.27293160e-01, 1.17934929e+00, 8.15065573e-01],\n",
       "       [9.05757560e-03, 1.57636031e-01, 2.56029867e-01, ...,\n",
       "        5.92415704e-02, 1.24605007e+01, 5.28834359e+01],\n",
       "       [2.56030444e+00, 1.22913962e+02, 1.30779683e+04, ...,\n",
       "        2.20466450e+00, 2.11503947e+00, 2.40414246e-02],\n",
       "       ...,\n",
       "       [4.06073467e-01, 5.04607137e-02, 1.26522040e-01, ...,\n",
       "        1.19215138e-01, 2.44850191e-01, 2.40977440e+02],\n",
       "       [5.20666734e+00, 6.05485326e+00, 5.15734625e-02, ...,\n",
       "        7.57955784e+01, 1.36331779e-01, 1.22541020e+01],\n",
       "       [2.71225121e-02, 6.68591839e+00, 5.58698169e-01, ...,\n",
       "        2.66625246e-01, 4.08917379e-02, 2.79792184e+01]], shape=(32, 32))"
      ]
     },
     "execution_count": 77,
     "metadata": {},
     "output_type": "execute_result"
    }
   ],
   "source": [
    "N = 32\n",
    "M = 32\n",
    "max_assigned = math.ceil(N / M)\n",
    "rng = np.random.default_rng()\n",
    "W = sp.stats.lognorm.rvs(s=3, size=(N, M))\n",
    "B = np.full(M, max_assigned)\n",
    "W"
   ]
  },
  {
   "cell_type": "code",
   "execution_count": 78,
   "id": "6a86e54a8b89b133",
   "metadata": {
    "ExecuteTime": {
     "end_time": "2025-05-16T19:18:31.930867Z",
     "start_time": "2025-05-16T19:18:31.916736Z"
    }
   },
   "outputs": [],
   "source": [
    "x = cp.Variable((N, M), \"x\")\n",
    "w = cp.Parameter((N, M), name=\"w\")\n",
    "constraints = [\n",
    "    cp.sum(x, 0) <= max_assigned,  # enforce even distribution\n",
    "    cp.sum(x, 1) == 1,\n",
    "    x >= 0,\n",
    "]\n",
    "problem = cp.Problem(cp.Minimize(cp.vdot(w, x)), constraints)"
   ]
  },
  {
   "cell_type": "code",
   "execution_count": 79,
   "id": "initial_id",
   "metadata": {
    "ExecuteTime": {
     "end_time": "2025-05-16T19:18:31.980521Z",
     "start_time": "2025-05-16T19:18:31.937189Z"
    },
    "collapsed": true
   },
   "outputs": [
    {
     "data": {
      "text/plain": [
       "array([16, 23,  6, 20, 18, 15, 24,  5,  8,  0, 17,  4, 11,  3, 14,  1, 22,\n",
       "       25,  9, 31,  2, 19, 21, 12, 13, 30, 10, 29,  7, 28, 27, 26])"
      ]
     },
     "execution_count": 79,
     "metadata": {},
     "output_type": "execute_result"
    }
   ],
   "source": [
    "def solve_cvxpy():\n",
    "    w.value = W\n",
    "    problem.solve(solver=\"ECOS\")\n",
    "    return x.value\n",
    "\n",
    "\n",
    "solve_cvxpy().argmax(1)"
   ]
  },
  {
   "cell_type": "code",
   "execution_count": 80,
   "id": "77e2971b9581f4eb",
   "metadata": {
    "ExecuteTime": {
     "end_time": "2025-05-16T19:18:31.987717Z",
     "start_time": "2025-05-16T19:18:31.983401Z"
    }
   },
   "outputs": [],
   "source": [
    "A_ub = np.tile(np.identity(M), (1, N))\n",
    "b_ub = np.full(M, max_assigned)\n",
    "\n",
    "A_eq = np.repeat(np.identity(N), M, axis=1)\n",
    "b_eq = np.full(N, 1.0)\n",
    "\n",
    "c = W.flatten()"
   ]
  },
  {
   "cell_type": "code",
   "execution_count": 81,
   "id": "c46510bf119b683e",
   "metadata": {
    "ExecuteTime": {
     "end_time": "2025-05-16T19:18:32.236082Z",
     "start_time": "2025-05-16T19:18:31.992282Z"
    }
   },
   "outputs": [
    {
     "data": {
      "text/plain": [
       "array([16, 23,  6, 20, 18, 15, 24,  5,  8,  0, 17,  4, 11,  3, 14,  1, 22,\n",
       "       25,  9, 31,  2, 19, 21, 12, 13, 30, 10, 29,  7, 28, 27, 26])"
      ]
     },
     "execution_count": 81,
     "metadata": {},
     "output_type": "execute_result"
    }
   ],
   "source": [
    "def solve_highs():\n",
    "    c = W.flatten()\n",
    "    return sp.optimize.linprog(\n",
    "        c=c,\n",
    "        A_ub=A_ub,\n",
    "        b_ub=b_ub,\n",
    "        A_eq=A_eq,\n",
    "        b_eq=b_eq,\n",
    "        method=\"highs\",\n",
    "    ).x.reshape((N, M))\n",
    "\n",
    "\n",
    "solve_highs().argmax(1)"
   ]
  },
  {
   "cell_type": "code",
   "execution_count": 82,
   "id": "2495ec314e755bfa",
   "metadata": {
    "ExecuteTime": {
     "end_time": "2025-05-16T19:18:32.272364Z",
     "start_time": "2025-05-16T19:18:32.246042Z"
    }
   },
   "outputs": [
    {
     "data": {
      "text/plain": [
       "array([18,  0,  6,  0,  0, 27,  9,  0,  9,  0,  0,  0,  0,  0,  0,  0,  0,\n",
       "        0,  0,  0,  0,  0,  0,  0,  0,  0,  0,  0,  0,  0,  0,  0])"
      ]
     },
     "execution_count": 82,
     "metadata": {},
     "output_type": "execute_result"
    }
   ],
   "source": [
    "def solve_highspy():\n",
    "    h = highspy.Highs()\n",
    "    vars = {(i, j): h.addVariable(lb=0.0, ub=1.0) for i, j in product(range(N), range(M))}\n",
    "    for j in range(M):\n",
    "        h.addConstr(sum(vars[i, j] for i in range(N)) <= max_assigned)\n",
    "    for i in range(N):\n",
    "        h.addConstr(sum(vars[i, j] for j in range(M)) == 3.0)\n",
    "    h.addConstr(sum(vars[i, j] * (10 + (j % 3)) for i in range(N) for j in range(M)) == 123.0)\n",
    "    h.minimize(sum(W[i, j] * vars[i, j] for i in range(N) for j in range(M)))\n",
    "\n",
    "    h.getLp()\n",
    "    # print(lp.a_matrix_.start_)\n",
    "    # print(lp.a_matrix_.index_)\n",
    "    # print(lp.a_matrix_.value_)\n",
    "    h.run()\n",
    "\n",
    "    solution = h.getSolution()\n",
    "    return np.array(solution.col_value).reshape((N, M))\n",
    "\n",
    "\n",
    "solve_highspy().argmax(1)"
   ]
  },
  {
   "cell_type": "code",
   "execution_count": 130,
   "id": "3f41091b21317fa9",
   "metadata": {
    "ExecuteTime": {
     "end_time": "2025-05-16T20:03:37.806784Z",
     "start_time": "2025-05-16T20:03:37.776258Z"
    }
   },
   "outputs": [],
   "source": [
    "h = highspy.Highs()\n",
    "h.setOptionValue(\"presolve\", \"off\")\n",
    "h.setOptionValue(\"log_to_console\", False)\n",
    "h.setOptionValue(\"output_flag\", False)\n",
    "vars = {(i, j): h.addVariable(lb=0.0, ub=1.0) for i, j in product(range(N), range(M))}\n",
    "for i in range(N):\n",
    "    h.addConstr(sum(vars[i, j] for j in range(M)) == 1.0)\n",
    "for j in range(M):\n",
    "    h.addConstr(sum(vars[i, j] for i in range(N)) <= max_assigned)\n",
    "h.addConstr(sum(vars[i, j] for i in range(N) for j in range(M)) == 1.0)\n",
    "h.minimize(sum(W[i, j] * vars[i, j] for i in range(N) for j in range(M)))\n",
    "lp = h.getLp()"
   ]
  },
  {
   "cell_type": "code",
   "execution_count": 131,
   "id": "2d203514a884714b",
   "metadata": {
    "ExecuteTime": {
     "end_time": "2025-05-16T20:03:39.122278Z",
     "start_time": "2025-05-16T20:03:39.115547Z"
    }
   },
   "outputs": [
    {
     "data": {
      "text/plain": [
       "array([16, 21,  9, 20,  9, 15, 24, 24,  8, 22, 17,  0, 11, 29, 21, 23, 22,\n",
       "       17, 31, 31,  2,  2, 21,  5, 13,  0, 25, 27,  0, 28, 23, 26])"
      ]
     },
     "execution_count": 131,
     "metadata": {},
     "output_type": "execute_result"
    }
   ],
   "source": [
    "def solve_highspy_lp():\n",
    "    lp.col_cost_[:] = W.flat\n",
    "    lp.row_upper_[N : N + M] = [max_assigned]\n",
    "    lp.row_upper_[-1] = [4]\n",
    "\n",
    "    # h = highspy.Highs()\n",
    "    h.passModel(lp)\n",
    "    h.run()\n",
    "    return np.reshape(h.getSolution().col_value, (N, M))\n",
    "\n",
    "\n",
    "solve_highspy_lp().argmax(1)"
   ]
  },
  {
   "cell_type": "code",
   "execution_count": 132,
   "id": "64bab916041a1e5a",
   "metadata": {
    "ExecuteTime": {
     "end_time": "2025-05-16T20:03:43.789794Z",
     "start_time": "2025-05-16T20:03:41.320106Z"
    }
   },
   "outputs": [
    {
     "name": "stdout",
     "output_type": "stream",
     "text": [
      "302 μs ± 5.64 μs per loop (mean ± std. dev. of 7 runs, 1,000 loops each)\n"
     ]
    }
   ],
   "source": [
    "%%timeit\n",
    "solve_highspy_lp()"
   ]
  },
  {
   "cell_type": "code",
   "execution_count": 86,
   "id": "95859e9d9f9e6d3a",
   "metadata": {
    "ExecuteTime": {
     "end_time": "2025-05-16T19:18:39.884736Z",
     "start_time": "2025-05-16T19:18:36.872851Z"
    }
   },
   "outputs": [
    {
     "name": "stdout",
     "output_type": "stream",
     "text": [
      "3.71 ms ± 59.7 μs per loop (mean ± std. dev. of 7 runs, 100 loops each)\n"
     ]
    }
   ],
   "source": [
    "%%timeit\n",
    "solve_cvxpy()"
   ]
  },
  {
   "cell_type": "code",
   "execution_count": 87,
   "id": "c87ff36a66e44b64",
   "metadata": {
    "ExecuteTime": {
     "end_time": "2025-05-16T19:18:53.882308Z",
     "start_time": "2025-05-16T19:18:39.892283Z"
    }
   },
   "outputs": [
    {
     "name": "stdout",
     "output_type": "stream",
     "text": [
      "17.2 ms ± 745 μs per loop (mean ± std. dev. of 7 runs, 100 loops each)\n"
     ]
    }
   ],
   "source": [
    "%%timeit\n",
    "solve_highspy()"
   ]
  },
  {
   "cell_type": "code",
   "execution_count": 88,
   "id": "4f8c82c3e09c2f2",
   "metadata": {
    "ExecuteTime": {
     "end_time": "2025-05-16T19:18:55.844879Z",
     "start_time": "2025-05-16T19:18:53.892469Z"
    }
   },
   "outputs": [
    {
     "name": "stdout",
     "output_type": "stream",
     "text": [
      "242 ms ± 5.94 ms per loop (mean ± std. dev. of 7 runs, 1 loop each)\n"
     ]
    }
   ],
   "source": [
    "%%timeit\n",
    "solve_highs()"
   ]
  }
 ],
 "metadata": {
  "kernelspec": {
   "display_name": "Python 3",
   "language": "python",
   "name": "python3"
  },
  "language_info": {
   "codemirror_mode": {
    "name": "ipython",
    "version": 2
   },
   "file_extension": ".py",
   "mimetype": "text/x-python",
   "name": "python",
   "nbconvert_exporter": "python",
   "pygments_lexer": "ipython2",
   "version": "2.7.6"
  }
 },
 "nbformat": 4,
 "nbformat_minor": 5
}
