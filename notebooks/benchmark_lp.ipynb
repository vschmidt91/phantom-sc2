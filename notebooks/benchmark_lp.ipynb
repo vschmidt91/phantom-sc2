{
 "cells": [
  {
   "metadata": {
    "ExecuteTime": {
     "end_time": "2025-03-25T21:03:47.018159Z",
     "start_time": "2025-03-25T21:03:47.014194Z"
    }
   },
   "cell_type": "code",
   "source": [
    "import importlib\n",
    "import math\n",
    "import os\n",
    "import subprocess\n",
    "import sys\n",
    "\n",
    "sys.path.append(\"../ares-sc2\")         # required to import sc2_helper\n",
    "sys.path.append(\"../ares-sc2/src\")     # required to import ares\n",
    "sys.path.append(\"phantom\")\n",
    "\n",
    "import cvxpy as cp\n",
    "import scipy as sp\n",
    "import numpy as np\n",
    "\n",
    "from phantom.cvxpygen.assign.assign import cpg_assign\n",
    "\n"
   ],
   "id": "468aaab68aeef5c6",
   "outputs": [],
   "execution_count": 30
  },
  {
   "metadata": {
    "ExecuteTime": {
     "end_time": "2025-03-25T21:03:47.057396Z",
     "start_time": "2025-03-25T21:03:47.046024Z"
    }
   },
   "cell_type": "code",
   "source": "cp.installed_solvers()",
   "id": "85f1acf4d28bbb87",
   "outputs": [
    {
     "data": {
      "text/plain": [
       "['CLARABEL',\n",
       " 'CVXOPT',\n",
       " 'ECOS',\n",
       " 'ECOS_BB',\n",
       " 'GLPK',\n",
       " 'GLPK_MI',\n",
       " 'HIGHS',\n",
       " 'MOSEK',\n",
       " 'OSQP',\n",
       " 'PIQP',\n",
       " 'PROXQP',\n",
       " 'SCIP',\n",
       " 'SCIPY',\n",
       " 'SCS',\n",
       " 'SDPA']"
      ]
     },
     "execution_count": 31,
     "metadata": {},
     "output_type": "execute_result"
    }
   ],
   "execution_count": 31
  },
  {
   "metadata": {
    "ExecuteTime": {
     "end_time": "2025-03-25T21:03:47.081926Z",
     "start_time": "2025-03-25T21:03:47.077472Z"
    }
   },
   "cell_type": "code",
   "source": "SOLVER = cp.ECOS",
   "id": "d3e23e07026656da",
   "outputs": [],
   "execution_count": 32
  },
  {
   "metadata": {
    "ExecuteTime": {
     "end_time": "2025-03-25T21:03:47.104896Z",
     "start_time": "2025-03-25T21:03:47.097919Z"
    }
   },
   "cell_type": "code",
   "source": [
    "N = 32\n",
    "M = 32\n",
    "max_assigned = math.ceil(N / M)\n",
    "np.random.seed(0)\n",
    "W = sp.stats.lognorm.rvs(s=2, size=(N, M))\n",
    "B = np.full(M, max_assigned)\n",
    "W"
   ],
   "id": "1ddee748d1f818e",
   "outputs": [
    {
     "data": {
      "text/plain": [
       "array([[3.40593534e+01, 2.22624079e+00, 7.08143073e+00, ...,\n",
       "        1.88916030e+01, 1.36328176e+00, 2.13043256e+00],\n",
       "       [1.69386618e-01, 1.90327721e-02, 4.98663231e-01, ...,\n",
       "        4.87187450e-01, 1.96657319e-01, 3.16643067e-02],\n",
       "       [1.42597000e+00, 4.47731359e-01, 3.83731726e-02, ...,\n",
       "        7.05176594e+00, 2.03955734e+00, 4.10886295e+00],\n",
       "       ...,\n",
       "       [2.07292882e+00, 1.89659243e+01, 2.41803787e+01, ...,\n",
       "        1.99986087e-01, 1.09212340e+02, 7.74345501e-02],\n",
       "       [4.81378132e-01, 6.52855141e+00, 1.81025251e+00, ...,\n",
       "        5.45421436e-01, 2.41588533e+00, 1.42987315e+00],\n",
       "       [2.02129884e-01, 1.61862176e+00, 1.78289957e+00, ...,\n",
       "        4.06365446e+00, 4.33894136e-01, 1.11359307e-01]], shape=(32, 32))"
      ]
     },
     "execution_count": 33,
     "metadata": {},
     "output_type": "execute_result"
    }
   ],
   "execution_count": 33
  },
  {
   "metadata": {
    "ExecuteTime": {
     "end_time": "2025-03-25T21:03:47.108750Z",
     "start_time": "2025-03-25T21:03:47.104896Z"
    }
   },
   "cell_type": "code",
   "source": [
    "x = cp.Variable((N, M), 'x')\n",
    "w = cp.Parameter((N, M), name='w')\n",
    "constraints = [\n",
    "    cp.sum(x, 0) <= max_assigned,  # enforce even distribution\n",
    "    cp.sum(x, 1) == 1,\n",
    "    0 <= x,\n",
    "]\n",
    "problem = cp.Problem(cp.Minimize(cp.vdot(w, x)), constraints)"
   ],
   "id": "6a86e54a8b89b133",
   "outputs": [],
   "execution_count": 34
  },
  {
   "metadata": {
    "ExecuteTime": {
     "end_time": "2025-03-25T21:03:47.119526Z",
     "start_time": "2025-03-25T21:03:47.108750Z"
    }
   },
   "cell_type": "code",
   "source": [
    "def solve_cpg():\n",
    "    return cpg_assign(W, B)\n",
    "solve_cpg().argmax(1)"
   ],
   "id": "1e78654b12eeced",
   "outputs": [
    {
     "data": {
      "text/plain": [
       "array([20, 10,  2,  6, 29, 23, 13, 21, 22, 19, 14, 30,  1, 11,  9, 26, 16,\n",
       "       27,  4,  3, 28,  0, 31, 12,  7,  8, 18, 15, 17,  5, 24, 25])"
      ]
     },
     "execution_count": 35,
     "metadata": {},
     "output_type": "execute_result"
    }
   ],
   "execution_count": 35
  },
  {
   "cell_type": "code",
   "id": "initial_id",
   "metadata": {
    "collapsed": true,
    "ExecuteTime": {
     "end_time": "2025-03-25T21:03:47.168765Z",
     "start_time": "2025-03-25T21:03:47.119526Z"
    }
   },
   "source": [
    "def solve_cvxpy():\n",
    "    w.value = W\n",
    "    problem.solve(solver=\"ECOS\")\n",
    "    return x.value\n",
    "\n",
    "solve_cvxpy().argmax(1)"
   ],
   "outputs": [
    {
     "data": {
      "text/plain": [
       "array([20, 10,  2,  6, 29, 23, 13, 21, 22, 19, 14, 30,  1, 11,  9, 26, 16,\n",
       "       27,  4,  3, 28,  0, 31, 12,  7,  8, 18, 15, 17,  5, 24, 25])"
      ]
     },
     "execution_count": 36,
     "metadata": {},
     "output_type": "execute_result"
    }
   ],
   "execution_count": 36
  },
  {
   "metadata": {
    "ExecuteTime": {
     "end_time": "2025-03-25T21:03:47.172644Z",
     "start_time": "2025-03-25T21:03:47.168765Z"
    }
   },
   "cell_type": "code",
   "source": [
    "A_ub = np.tile(np.identity(M), (1, N))\n",
    "b_ub = np.full(M, max_assigned)\n",
    "\n",
    "A_eq = np.repeat(np.identity(N), M, axis=1)\n",
    "b_eq = np.full(N, 1.0)\n",
    "\n",
    "c = W.flatten()"
   ],
   "id": "77e2971b9581f4eb",
   "outputs": [],
   "execution_count": 37
  },
  {
   "metadata": {
    "ExecuteTime": {
     "end_time": "2025-03-25T21:03:47.179543Z",
     "start_time": "2025-03-25T21:03:47.172644Z"
    }
   },
   "cell_type": "code",
   "source": [
    "def solve_highs():\n",
    "    return sp.optimize.linprog(\n",
    "        c=c,\n",
    "        A_ub=A_ub,\n",
    "        b_ub=b_ub,\n",
    "        A_eq=A_eq,\n",
    "        b_eq=b_eq,\n",
    "        method=\"highs\",\n",
    "    ).x.reshape((N, M))\n",
    "solve_highs().argmax(1)"
   ],
   "id": "c46510bf119b683e",
   "outputs": [
    {
     "data": {
      "text/plain": [
       "array([20, 10,  2,  6, 29, 23, 13, 21, 22, 19, 14, 30,  1, 11,  9, 26, 16,\n",
       "       27,  4,  3, 28,  0, 31, 12,  7,  8, 18, 15, 17,  5, 24, 25])"
      ]
     },
     "execution_count": 38,
     "metadata": {},
     "output_type": "execute_result"
    }
   ],
   "execution_count": 38
  },
  {
   "metadata": {
    "ExecuteTime": {
     "end_time": "2025-03-25T21:03:47.207353Z",
     "start_time": "2025-03-25T21:03:47.191759Z"
    }
   },
   "cell_type": "code",
   "source": [
    "A_ub_sparse = sp.sparse.csr_matrix(A_ub)\n",
    "A_eq_sparse = sp.sparse.csr_matrix(A_eq)"
   ],
   "id": "710b30d6660aad60",
   "outputs": [],
   "execution_count": 39
  },
  {
   "metadata": {
    "ExecuteTime": {
     "end_time": "2025-03-25T21:03:50.422897Z",
     "start_time": "2025-03-25T21:03:47.207353Z"
    }
   },
   "cell_type": "code",
   "source": [
    "%%timeit\n",
    "solve_cvxpy()"
   ],
   "id": "95859e9d9f9e6d3a",
   "outputs": [
    {
     "name": "stdout",
     "output_type": "stream",
     "text": [
      "3.99 ms ± 1.18 ms per loop (mean ± std. dev. of 7 runs, 100 loops each)\n"
     ]
    }
   ],
   "execution_count": 40
  },
  {
   "metadata": {
    "ExecuteTime": {
     "end_time": "2025-03-25T21:04:02.092534Z",
     "start_time": "2025-03-25T21:03:50.423908Z"
    }
   },
   "cell_type": "code",
   "source": [
    "%%timeit\n",
    "solve_highs()"
   ],
   "id": "4f8c82c3e09c2f2",
   "outputs": [
    {
     "name": "stdout",
     "output_type": "stream",
     "text": [
      "1.43 ms ± 22.4 μs per loop (mean ± std. dev. of 7 runs, 1,000 loops each)\n"
     ]
    }
   ],
   "execution_count": 41
  },
  {
   "metadata": {
    "ExecuteTime": {
     "end_time": "2025-03-25T21:04:04.040309Z",
     "start_time": "2025-03-25T21:04:02.096324Z"
    }
   },
   "cell_type": "code",
   "source": [
    "%%timeit\n",
    "solve_cpg()"
   ],
   "id": "663414df07df49d8",
   "outputs": [
    {
     "name": "stdout",
     "output_type": "stream",
     "text": [
      "2.38 ms ± 101 μs per loop (mean ± std. dev. of 7 runs, 100 loops each)\n"
     ]
    }
   ],
   "execution_count": 42
  }
 ],
 "metadata": {
  "kernelspec": {
   "display_name": "Python 3",
   "language": "python",
   "name": "python3"
  },
  "language_info": {
   "codemirror_mode": {
    "name": "ipython",
    "version": 2
   },
   "file_extension": ".py",
   "mimetype": "text/x-python",
   "name": "python",
   "nbconvert_exporter": "python",
   "pygments_lexer": "ipython2",
   "version": "2.7.6"
  }
 },
 "nbformat": 4,
 "nbformat_minor": 5
}
