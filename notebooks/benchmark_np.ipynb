{
 "cells": [
  {
   "cell_type": "code",
   "id": "initial_id",
   "metadata": {
    "collapsed": true,
    "ExecuteTime": {
     "end_time": "2025-03-23T23:25:39.468644Z",
     "start_time": "2025-03-23T23:25:39.407408Z"
    }
   },
   "source": "import numpy as np",
   "outputs": [],
   "execution_count": 1
  },
  {
   "metadata": {
    "ExecuteTime": {
     "end_time": "2025-03-23T23:25:39.497174Z",
     "start_time": "2025-03-23T23:25:39.469651Z"
    }
   },
   "cell_type": "code",
   "source": [
    "shape = (1000, 1000)\n",
    "A = np.random.randn(*shape)\n",
    "B = np.where(0 < A, 1, 0)\n",
    "C = abs(A) / B"
   ],
   "id": "6ee3bf1320c9330e",
   "outputs": [
    {
     "name": "stderr",
     "output_type": "stream",
     "text": [
      "C:\\Users\\volke\\AppData\\Local\\Temp\\ipykernel_29180\\3187350205.py:4: RuntimeWarning: divide by zero encountered in divide\n",
      "  C = abs(A) / B\n"
     ]
    }
   ],
   "execution_count": 2
  },
  {
   "metadata": {
    "ExecuteTime": {
     "end_time": "2025-03-23T23:25:48.434897Z",
     "start_time": "2025-03-23T23:25:39.497174Z"
    }
   },
   "cell_type": "code",
   "source": [
    "%%timeit\n",
    "np.nan_to_num(C)"
   ],
   "id": "d14c032e97e26d3b",
   "outputs": [
    {
     "name": "stdout",
     "output_type": "stream",
     "text": [
      "11 ms ± 191 μs per loop (mean ± std. dev. of 7 runs, 100 loops each)\n"
     ]
    }
   ],
   "execution_count": 3
  },
  {
   "metadata": {
    "ExecuteTime": {
     "end_time": "2025-03-23T23:25:50.215945Z",
     "start_time": "2025-03-23T23:25:48.434897Z"
    }
   },
   "cell_type": "code",
   "source": [
    "%%timeit\n",
    "np.where(C == np.inf, C, 0.0)"
   ],
   "id": "5cb1680273a6094a",
   "outputs": [
    {
     "name": "stdout",
     "output_type": "stream",
     "text": [
      "2.18 ms ± 39.6 μs per loop (mean ± std. dev. of 7 runs, 100 loops each)\n"
     ]
    }
   ],
   "execution_count": 4
  }
 ],
 "metadata": {
  "kernelspec": {
   "display_name": "Python 3",
   "language": "python",
   "name": "python3"
  },
  "language_info": {
   "codemirror_mode": {
    "name": "ipython",
    "version": 2
   },
   "file_extension": ".py",
   "mimetype": "text/x-python",
   "name": "python",
   "nbconvert_exporter": "python",
   "pygments_lexer": "ipython2",
   "version": "2.7.6"
  }
 },
 "nbformat": 4,
 "nbformat_minor": 5
}
